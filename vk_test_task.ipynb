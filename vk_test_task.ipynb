{
 "cells": [
  {
   "cell_type": "markdown",
   "source": [
    "# Embedding's for MovieLens dataset"
   ],
   "metadata": {
    "collapsed": false
   }
  },
  {
   "cell_type": "markdown",
   "source": [
    "## Описание задачи\n",
    "\n",
    "Необходимо построить векторное представление пользователей и фильмов используя нейросетевые подходы, чтобы можно было по эмбендингу пользователя искать похожие эмбендинги фильмов и рекомендовать ему их.\n",
    "\n",
    "Обратить внимание на:\n",
    "\n",
    "1. Какие данных на обучение и валидацию, обоснование.\n",
    "2. Выбор и обоснование метрики\n",
    "3. Разработка архитектуры нейронной сети с пояснением\n",
    "4. Обучение и валидация\n",
    "5. Решение должно быть воспроизводимым с подробными комментариями на каждом шаге"
   ],
   "metadata": {
    "collapsed": false
   }
  },
  {
   "cell_type": "markdown",
   "source": [
    "## Описание данных\n",
    "\n",
    "*Полный* датасет MovieLens с сайта grouplens.org: https://files.grouplens.org/datasets/movielens/ml-latest.zip\n",
    "\n",
    "В датасете содержится информация о фильмах, оценках пользователей и тегах фильмов.\n",
    "\n",
    "\n",
    "Структура файла данных рейтингов (ratings.csv)\n",
    "-----------------------------------------\n",
    "\n",
    "Все рейтинги содержатся в файле `ratings.csv`. Каждая строка этого файла после строки заголовка представляет собой одну оценку одного фильма одним пользователем и имеет следующий формат:\n",
    "\n",
    "    userId,movieId,rating,timestamp\n",
    "\n",
    "Строки в этом файле упорядочены сначала по идентификатору пользователя, затем, внутри пользователя, по идентификатору фильма.\n",
    "\n",
    "Оценки выставляются по 5-звездочной шкале, с шагом в ползвезды (0,5 звезды - 5,0 звезды).\n",
    "\n",
    "Временные метки представляют собой секунды с полуночи по всемирному координированному времени (UTC) от 1 января 1970 года.\n",
    "\n",
    "\n",
    "Структура файла данных тегов (tags.csv)\n",
    "-----------------------------------\n",
    "\n",
    "Все теги содержатся в файле `tags.csv`. Каждая строка этого файла после строки заголовка представляет собой один тег, примененный к одному фильму одним пользователем, и имеет следующий формат:\n",
    "\n",
    "    userId,movieId,tag,timestamp\n",
    "\n",
    "Строки в этом файле упорядочены сначала по userId, затем, внутри пользователя, по movieId.\n",
    "\n",
    "Теги - это созданные пользователем метаданные о фильмах. Каждый тег обычно представляет собой одно слово или короткую фразу. Смысл, значение и цель конкретного тега определяется каждым пользователем.\n",
    "\n",
    "Временные метки представляют собой секунды с полуночи по всемирному координированному времени (UTC) от 1 января 1970 года.\n",
    "\n",
    "\n",
    "Структура файла данных фильмов (movies.csv)\n",
    "---------------------------------------\n",
    "\n",
    "Информация о фильмах содержится в файле `movies.csv`. Каждая строка этого файла после строки заголовка представляет один фильм и имеет следующий формат:\n",
    "\n",
    "    movieId,title,genres\n",
    "\n",
    "Названия фильмов вводятся вручную или импортируются из <https://www.themoviedb.org/> и включают год выпуска в круглых скобках. В этих названиях могут быть ошибки и несоответствия.\n",
    "\n",
    "Жанры представляют собой список, разделенный трубкой, и выбираются из следующих:\n",
    "\n",
    "* боевик\n",
    "* Приключения\n",
    "* Анимация\n",
    "* Детские\n",
    "* Комедия\n",
    "* Криминал\n",
    "* Документальный\n",
    "* Драма\n",
    "* Фэнтези\n",
    "* Фильм-нуар\n",
    "* Ужасы\n",
    "* Мюзикл\n",
    "* Мистерия\n",
    "* Романтика\n",
    "* Научная фантастика\n",
    "* Триллер\n",
    "* Война\n",
    "* Вестерн\n",
    "* (жанры не указаны)\n",
    "\n",
    "\n",
    "Структура файла данных ссылок (links.csv)\n",
    "---------------------------------------\n",
    "\n",
    "Идентификаторы, которые могут быть использованы для ссылок на другие источники данных о фильмах, содержатся в файле `links.csv`. Каждая строка этого файла после строки заголовка представляет один фильм и имеет следующий формат:\n",
    "\n",
    "    movieId,imdbId,tmdbId\n",
    "\n",
    "movieId - это идентификатор для фильмов, используемых <https://movielens.org>. Например, фильм \"История игрушек\" имеет ссылку <https://movielens.org/movies/1>.\n",
    "\n",
    "imdbId - это идентификатор для фильмов, используемых <http://www.imdb.com>. Например, фильм \"История игрушек\" имеет ссылку <http://www.imdb.com/title/tt0114709/>.\n",
    "\n",
    "tmdbId - идентификатор для фильмов, используемых <https://www.themoviedb.org>. Например, фильм \"История игрушек\" имеет ссылку <https://www.themoviedb.org/movie/862>.\n",
    "\n",
    "Использование перечисленных выше ресурсов регулируется условиями каждого поставщика.\n",
    "\n",
    "\n",
    "Геном тегов (genome-scores.csv и genome-tags.csv)\n",
    "-------------------------------------------------\n",
    "\n",
    "Этот набор данных включает текущую копию генома тегов.\n",
    "\n",
    "[genome-paper]: http://files.grouplens.org/papers/tag_genome.pdf\n",
    "\n",
    "Геном тегов - это структура данных, которая содержит оценки релевантности тегов для фильмов.  Структура представляет собой плотную матрицу: каждый фильм в геноме имеет значение для *каждого* тега в геноме.\n",
    "\n",
    "Как описано в [этой статье][genome-paper], геном тегов кодирует, насколько сильно фильмы проявляют определенные свойства, представленные тегами (атмосферность, заставляющие задуматься, реалистичность и т.д.). Геном тегов был вычислен с помощью алгоритма машинного обучения на пользовательском контенте, включая теги, рейтинги и текстовые рецензии.\n",
    "\n",
    "Геном разделен на два файла.  Файл `genome-scores.csv` содержит данные о релевантности тегов фильма в следующем формате:\n",
    "\n",
    "    movieId,tagId,relevance\n",
    "\n",
    "Второй файл, `genome-tags.csv`, содержит описания тегов для идентификаторов тегов в файле генома в следующем формате:\n",
    "\n",
    "    tagId,tag\n",
    "\n",
    "Значения `tagId` генерируются при экспорте набора данных, поэтому они могут отличаться в разных версиях наборов данных MovieLens.\n",
    "\n",
    "При ссылке на геномные данные тегов, пожалуйста, указывайте следующую цитату:\n",
    "\n",
    "> Jesse Vig, Shilad Sen, and John Riedl. 2012. The Tag Genome: Кодирование знаний сообщества для поддержки новых взаимодействий. ACM Trans. Interact. Intell. Syst. 2, 3: 13:1-13:44. <https://doi.org/10.1145/2362394.2362395>"
   ],
   "metadata": {
    "collapsed": false
   }
  },
  {
   "cell_type": "markdown",
   "source": [
    "## Анализ и подготовка данных"
   ],
   "metadata": {
    "collapsed": false
   }
  },
  {
   "cell_type": "code",
   "execution_count": 13,
   "outputs": [],
   "source": [
    "import pandas as pd\n",
    "import numpy as np\n",
    "import matplotlib.pyplot as plt\n",
    "import seaborn as sns\n",
    "import os"
   ],
   "metadata": {
    "collapsed": false,
    "ExecuteTime": {
     "start_time": "2023-05-07T21:21:54.701751Z",
     "end_time": "2023-05-07T21:21:54.822645Z"
    }
   }
  },
  {
   "cell_type": "code",
   "execution_count": 14,
   "outputs": [
    {
     "data": {
      "text/plain": "<pyspark.sql.session.SparkSession at 0x1393a30f430>",
      "text/html": "\n            <div>\n                <p><b>SparkSession - in-memory</b></p>\n                \n        <div>\n            <p><b>SparkContext</b></p>\n\n            <p><a href=\"http://Fazeiz:4040\">Spark UI</a></p>\n\n            <dl>\n              <dt>Version</dt>\n                <dd><code>v3.4.0</code></dd>\n              <dt>Master</dt>\n                <dd><code>local[*]</code></dd>\n              <dt>AppName</dt>\n                <dd><code>pyspark-shell</code></dd>\n            </dl>\n        </div>\n        \n            </div>\n        "
     },
     "execution_count": 14,
     "metadata": {},
     "output_type": "execute_result"
    }
   ],
   "source": [
    "from pyspark.sql import SparkSession\n",
    "os.environ[\"PYARROW_IGNORE_TIMEZONE\"] = \"1\"\n",
    "\n",
    "spark = SparkSession.builder.getOrCreate()\n",
    "spark.conf.set(\"spark.sql.execution.arrow.pyspark.enabled\", \"true\")\n",
    "spark"
   ],
   "metadata": {
    "collapsed": false,
    "ExecuteTime": {
     "start_time": "2023-05-07T21:21:54.717435Z",
     "end_time": "2023-05-07T21:21:54.822645Z"
    }
   }
  },
  {
   "cell_type": "code",
   "execution_count": 15,
   "outputs": [],
   "source": [
    "movies = spark.read.csv('ml-latest/movies.csv', header=True, inferSchema=True)\n",
    "ratings = spark.read.csv('ml-latest/ratings.csv', header=True, inferSchema=True)"
   ],
   "metadata": {
    "collapsed": false,
    "ExecuteTime": {
     "start_time": "2023-05-07T21:21:54.748656Z",
     "end_time": "2023-05-07T21:22:04.502802Z"
    }
   }
  },
  {
   "cell_type": "code",
   "execution_count": 16,
   "outputs": [
    {
     "name": "stdout",
     "output_type": "stream",
     "text": [
      "+-------+--------------------+--------------------+\n",
      "|movieId|               title|              genres|\n",
      "+-------+--------------------+--------------------+\n",
      "|      1|    Toy Story (1995)|Adventure|Animati...|\n",
      "|      2|      Jumanji (1995)|Adventure|Childre...|\n",
      "|      3|Grumpier Old Men ...|      Comedy|Romance|\n",
      "|      4|Waiting to Exhale...|Comedy|Drama|Romance|\n",
      "|      5|Father of the Bri...|              Comedy|\n",
      "|      6|         Heat (1995)|Action|Crime|Thri...|\n",
      "|      7|      Sabrina (1995)|      Comedy|Romance|\n",
      "|      8| Tom and Huck (1995)|  Adventure|Children|\n",
      "|      9| Sudden Death (1995)|              Action|\n",
      "|     10|    GoldenEye (1995)|Action|Adventure|...|\n",
      "|     11|American Presiden...|Comedy|Drama|Romance|\n",
      "|     12|Dracula: Dead and...|       Comedy|Horror|\n",
      "|     13|        Balto (1995)|Adventure|Animati...|\n",
      "|     14|        Nixon (1995)|               Drama|\n",
      "|     15|Cutthroat Island ...|Action|Adventure|...|\n",
      "|     16|       Casino (1995)|         Crime|Drama|\n",
      "|     17|Sense and Sensibi...|       Drama|Romance|\n",
      "|     18|   Four Rooms (1995)|              Comedy|\n",
      "|     19|Ace Ventura: When...|              Comedy|\n",
      "|     20|  Money Train (1995)|Action|Comedy|Cri...|\n",
      "+-------+--------------------+--------------------+\n",
      "only showing top 20 rows\n",
      "\n"
     ]
    }
   ],
   "source": [
    "movies.show()"
   ],
   "metadata": {
    "collapsed": false,
    "ExecuteTime": {
     "start_time": "2023-05-07T21:22:04.502802Z",
     "end_time": "2023-05-07T21:22:04.597563Z"
    }
   }
  },
  {
   "cell_type": "code",
   "execution_count": 17,
   "outputs": [
    {
     "name": "stdout",
     "output_type": "stream",
     "text": [
      "+------+-------+------+----------+\n",
      "|userId|movieId|rating| timestamp|\n",
      "+------+-------+------+----------+\n",
      "|     1|    307|   3.5|1256677221|\n",
      "|     1|    481|   3.5|1256677456|\n",
      "|     1|   1091|   1.5|1256677471|\n",
      "|     1|   1257|   4.5|1256677460|\n",
      "|     1|   1449|   4.5|1256677264|\n",
      "|     1|   1590|   2.5|1256677236|\n",
      "|     1|   1591|   1.5|1256677475|\n",
      "|     1|   2134|   4.5|1256677464|\n",
      "|     1|   2478|   4.0|1256677239|\n",
      "|     1|   2840|   3.0|1256677500|\n",
      "|     1|   2986|   2.5|1256677496|\n",
      "|     1|   3020|   4.0|1256677260|\n",
      "|     1|   3424|   4.5|1256677444|\n",
      "|     1|   3698|   3.5|1256677243|\n",
      "|     1|   3826|   2.0|1256677210|\n",
      "|     1|   3893|   3.5|1256677486|\n",
      "|     2|    170|   3.5|1192913581|\n",
      "|     2|    849|   3.5|1192913537|\n",
      "|     2|   1186|   3.5|1192913611|\n",
      "|     2|   1235|   3.0|1192913585|\n",
      "+------+-------+------+----------+\n",
      "only showing top 20 rows\n",
      "\n"
     ]
    }
   ],
   "source": [
    "ratings.show()"
   ],
   "metadata": {
    "collapsed": false,
    "ExecuteTime": {
     "start_time": "2023-05-07T21:22:04.597563Z",
     "end_time": "2023-05-07T21:22:04.691353Z"
    }
   }
  },
  {
   "cell_type": "code",
   "execution_count": 18,
   "outputs": [],
   "source": [
    "# merge ratings and movies by movieId and sort by userId\n",
    "df = ratings.join(movies, on='movieId', how='left').sort('userId')"
   ],
   "metadata": {
    "collapsed": false,
    "ExecuteTime": {
     "start_time": "2023-05-07T21:22:04.691353Z",
     "end_time": "2023-05-07T21:22:04.769475Z"
    }
   }
  },
  {
   "cell_type": "code",
   "execution_count": 19,
   "outputs": [],
   "source": [
    "del ratings, movies"
   ],
   "metadata": {
    "collapsed": false,
    "ExecuteTime": {
     "start_time": "2023-05-07T21:22:04.722603Z",
     "end_time": "2023-05-07T21:22:04.785107Z"
    }
   }
  },
  {
   "cell_type": "code",
   "execution_count": 20,
   "outputs": [
    {
     "name": "stdout",
     "output_type": "stream",
     "text": [
      "+-------+------+------+----------+--------------------+--------------------+\n",
      "|movieId|userId|rating| timestamp|               title|              genres|\n",
      "+-------+------+------+----------+--------------------+--------------------+\n",
      "|    307|     1|   3.5|1256677221|Three Colors: Blu...|               Drama|\n",
      "|    481|     1|   3.5|1256677456|   Kalifornia (1993)|      Drama|Thriller|\n",
      "|   1091|     1|   1.5|1256677471|Weekend at Bernie...|              Comedy|\n",
      "|   1257|     1|   4.5|1256677460|Better Off Dead.....|      Comedy|Romance|\n",
      "|   1449|     1|   4.5|1256677264|Waiting for Guffm...|              Comedy|\n",
      "|   1590|     1|   2.5|1256677236|Event Horizon (1997)|Horror|Sci-Fi|Thr...|\n",
      "|   1591|     1|   1.5|1256677475|        Spawn (1997)|Action|Adventure|...|\n",
      "|   2134|     1|   4.5|1256677464|Weird Science (1985)|Comedy|Fantasy|Sc...|\n",
      "|   2478|     1|   4.0|1256677239|¡Three Amigos! (1...|      Comedy|Western|\n",
      "|   2840|     1|   3.0|1256677500|     Stigmata (1999)|      Drama|Thriller|\n",
      "|   2986|     1|   2.5|1256677496|    RoboCop 2 (1990)|Action|Crime|Sci-...|\n",
      "|   3020|     1|   4.0|1256677260| Falling Down (1993)|        Action|Drama|\n",
      "|   3424|     1|   4.5|1256677444|Do the Right Thin...|               Drama|\n",
      "|   3698|     1|   3.5|1256677243|Running Man, The ...|       Action|Sci-Fi|\n",
      "|   3826|     1|   2.0|1256677210|   Hollow Man (2000)|Horror|Sci-Fi|Thr...|\n",
      "|   3893|     1|   3.5|1256677486|  Nurse Betty (2000)|Comedy|Crime|Dram...|\n",
      "|    170|     2|   3.5|1192913581|      Hackers (1995)|Action|Adventure|...|\n",
      "|    849|     2|   3.5|1192913537|Escape from L.A. ...|Action|Adventure|...|\n",
      "|   1186|     2|   3.5|1192913611|Sex, Lies, and Vi...|               Drama|\n",
      "|   1235|     2|   3.0|1192913585|Harold and Maude ...|Comedy|Drama|Romance|\n",
      "+-------+------+------+----------+--------------------+--------------------+\n",
      "only showing top 20 rows\n",
      "\n"
     ]
    }
   ],
   "source": [
    "df.show()"
   ],
   "metadata": {
    "collapsed": false,
    "ExecuteTime": {
     "start_time": "2023-05-07T21:22:04.738226Z",
     "end_time": "2023-05-07T21:22:16.087314Z"
    }
   }
  },
  {
   "cell_type": "code",
   "execution_count": 21,
   "outputs": [
    {
     "name": "stdout",
     "output_type": "stream",
     "text": [
      "root\n",
      " |-- movieId: integer (nullable = true)\n",
      " |-- userId: integer (nullable = true)\n",
      " |-- rating: double (nullable = true)\n",
      " |-- timestamp: integer (nullable = true)\n",
      " |-- title: string (nullable = true)\n",
      " |-- genres: string (nullable = true)\n",
      "\n"
     ]
    }
   ],
   "source": [
    "df.printSchema()"
   ],
   "metadata": {
    "collapsed": false,
    "ExecuteTime": {
     "start_time": "2023-05-07T21:22:16.087314Z",
     "end_time": "2023-05-07T21:22:16.102939Z"
    }
   }
  },
  {
   "cell_type": "code",
   "execution_count": 22,
   "outputs": [],
   "source": [
    "# switch type of column rating from double to float\n",
    "from pyspark.sql.types import FloatType\n",
    "df = df.withColumn(\"rating\", df[\"rating\"].cast(FloatType()))"
   ],
   "metadata": {
    "collapsed": false,
    "ExecuteTime": {
     "start_time": "2023-05-07T21:22:16.102939Z",
     "end_time": "2023-05-07T21:22:16.165414Z"
    }
   }
  },
  {
   "cell_type": "code",
   "execution_count": 23,
   "outputs": [
    {
     "name": "stdout",
     "output_type": "stream",
     "text": [
      "Total No. of Users: 27753444\n",
      "Total No. of Movies: 27753444\n",
      "\n",
      "Max observed rating: 5.0\n",
      "Min observed rating: 0.5\n",
      "\n",
      "Max No. of ratings per user: 23715\n",
      "Min No. of ratings per user: 1\n",
      "Median No. of ratings per user: 30.0\n",
      "\n",
      "Max No. of ratings per movie: 97999\n",
      "Min No. of ratings per movie: 1\n",
      "Median No. of ratings per movie: 7.0\n"
     ]
    }
   ],
   "source": [
    "# show statistics for all data\n",
    "ratings_pre_user = df.groupBy('userId').count().select('count').toPandas()\n",
    "ratings_pre_movie = df.groupBy('movieId').count().select('count').toPandas()\n",
    "\n",
    "print('Total No. of Users: {}'.format(ratings_pre_user['count'].sum()))\n",
    "print('Total No. of Movies: {}'.format(ratings_pre_movie['count'].sum()))\n",
    "print()\n",
    "\n",
    "print('Max observed rating: {}'.format(df.agg({\"rating\": \"max\"}).collect()[0][0]))\n",
    "print('Min observed rating: {}'.format(df.agg({\"rating\": \"min\"}).collect()[0][0]))\n",
    "print()\n",
    "\n",
    "print('Max No. of ratings per user: {}'.format(ratings_pre_user['count'].max()))\n",
    "print('Min No. of ratings per user: {}'.format(ratings_pre_user['count'].min()))\n",
    "print('Median No. of ratings per user: {}'.format(ratings_pre_user['count'].median()))\n",
    "print()\n",
    "\n",
    "print('Max No. of ratings per movie: {}'.format(ratings_pre_movie['count'].max()))\n",
    "print('Min No. of ratings per movie: {}'.format(ratings_pre_movie['count'].min()))\n",
    "print('Median No. of ratings per movie: {}'.format(ratings_pre_movie['count'].median()))\n",
    "\n",
    "del ratings_pre_user, ratings_pre_movie"
   ],
   "metadata": {
    "collapsed": false,
    "ExecuteTime": {
     "start_time": "2023-05-07T21:22:16.134189Z",
     "end_time": "2023-05-07T21:22:51.247329Z"
    }
   }
  },
  {
   "cell_type": "code",
   "execution_count": 24,
   "outputs": [],
   "source": [
    "# rename columns movieId and userId to movie_id and user_id\n",
    "df = df.withColumnRenamed('movieId', 'movie_id').withColumnRenamed('userId', 'user_id')"
   ],
   "metadata": {
    "collapsed": false,
    "ExecuteTime": {
     "start_time": "2023-05-07T21:22:51.247329Z",
     "end_time": "2023-05-07T21:22:51.278608Z"
    }
   }
  },
  {
   "cell_type": "code",
   "execution_count": 38,
   "outputs": [],
   "source": [
    "from pyspark.sql.functions import col, rank, dense_rank, count\n",
    "from pyspark.sql.window import Window\n",
    "\n",
    "\n",
    "def get_last_n_ratings_by_user(\n",
    "        df, n, min_ratings_per_user=1, user_colname=\"user_id\", timestamp_colname=\"timestamp\"\n",
    "):\n",
    "    # Count the number of ratings per user\n",
    "    user_counts = df.groupby(user_colname).agg(count(\"*\").alias(\"user_count\"))\n",
    "\n",
    "    # Filter out users with less than min_ratings_per_user\n",
    "    valid_users = user_counts.filter(col(\"user_count\") >= min_ratings_per_user)\n",
    "\n",
    "    # Join the filtered user counts with the original DataFrame\n",
    "    joined_df = df.join(valid_users, on=user_colname)\n",
    "\n",
    "    # Rank the ratings within each user group based on the timestamp\n",
    "    ranked_df = joined_df.withColumn(\n",
    "        \"rank\", dense_rank().over(Window.partitionBy(user_colname).orderBy(col(timestamp_colname).desc()))\n",
    "    )\n",
    "\n",
    "    # Filter out ratings that are not in the last n for each user\n",
    "    last_n_ratings_df = ranked_df.filter(col(\"rank\") <= n)\n",
    "\n",
    "    # Sort the resulting DataFrame by user_id and timestamp\n",
    "    sorted_df = last_n_ratings_df.sort(user_colname, timestamp_colname)\n",
    "\n",
    "    return sorted_df\n",
    "\n"
   ],
   "metadata": {
    "collapsed": false,
    "ExecuteTime": {
     "start_time": "2023-05-07T21:57:39.995489Z",
     "end_time": "2023-05-07T21:57:40.026764Z"
    }
   }
  },
  {
   "cell_type": "code",
   "execution_count": 39,
   "outputs": [],
   "source": [
    "def mark_last_n_ratings_as_validation_set(\n",
    "        df, n, min_ratings=1, user_colname=\"user_id\", timestamp_colname=\"timestamp\"\n",
    "):\n",
    "    w = Window.partitionBy(user_colname).orderBy(col(timestamp_colname).desc())\n",
    "    ranked_df = df.withColumn(\"rank\", rank().over(w))\n",
    "    filtered_df = ranked_df.filter(col(\"rank\") <= n)\n",
    "    filtered_users_df = filtered_df.groupBy(user_colname).filter(\n",
    "        lambda x: x.count() >= min_ratings\n",
    "    )\n",
    "    valid_indices = [\n",
    "        row[\"index\"]\n",
    "        for row in filtered_users_df.select(\"index\").collect()\n",
    "    ]\n",
    "    df = df.withColumn(\"is_valid\", col(\"index\").isin(valid_indices))\n",
    "    return df\n"
   ],
   "metadata": {
    "collapsed": false,
    "ExecuteTime": {
     "start_time": "2023-05-07T21:57:41.214475Z",
     "end_time": "2023-05-07T21:57:41.245727Z"
    }
   }
  },
  {
   "cell_type": "code",
   "execution_count": 40,
   "outputs": [
    {
     "ename": "AttributeError",
     "evalue": "'GroupedData' object has no attribute 'filter'",
     "output_type": "error",
     "traceback": [
      "\u001B[1;31m---------------------------------------------------------------------------\u001B[0m",
      "\u001B[1;31mAttributeError\u001B[0m                            Traceback (most recent call last)",
      "Cell \u001B[1;32mIn[40], line 1\u001B[0m\n\u001B[1;32m----> 1\u001B[0m marked_df \u001B[38;5;241m=\u001B[39m \u001B[43mmark_last_n_ratings_as_validation_set\u001B[49m\u001B[43m(\u001B[49m\u001B[43mdf\u001B[49m\u001B[43m,\u001B[49m\u001B[43m \u001B[49m\u001B[43mn\u001B[49m\u001B[38;5;241;43m=\u001B[39;49m\u001B[38;5;241;43m5\u001B[39;49m\u001B[43m,\u001B[49m\u001B[43m \u001B[49m\u001B[43mmin_ratings\u001B[49m\u001B[38;5;241;43m=\u001B[39;49m\u001B[38;5;241;43m30\u001B[39;49m\u001B[43m)\u001B[49m\n",
      "Cell \u001B[1;32mIn[39], line 7\u001B[0m, in \u001B[0;36mmark_last_n_ratings_as_validation_set\u001B[1;34m(df, n, min_ratings, user_colname, timestamp_colname)\u001B[0m\n\u001B[0;32m      5\u001B[0m ranked_df \u001B[38;5;241m=\u001B[39m df\u001B[38;5;241m.\u001B[39mwithColumn(\u001B[38;5;124m\"\u001B[39m\u001B[38;5;124mrank\u001B[39m\u001B[38;5;124m\"\u001B[39m, rank()\u001B[38;5;241m.\u001B[39mover(w))\n\u001B[0;32m      6\u001B[0m filtered_df \u001B[38;5;241m=\u001B[39m ranked_df\u001B[38;5;241m.\u001B[39mfilter(col(\u001B[38;5;124m\"\u001B[39m\u001B[38;5;124mrank\u001B[39m\u001B[38;5;124m\"\u001B[39m) \u001B[38;5;241m<\u001B[39m\u001B[38;5;241m=\u001B[39m n)\n\u001B[1;32m----> 7\u001B[0m filtered_users_df \u001B[38;5;241m=\u001B[39m \u001B[43mfiltered_df\u001B[49m\u001B[38;5;241;43m.\u001B[39;49m\u001B[43mgroupBy\u001B[49m\u001B[43m(\u001B[49m\u001B[43muser_colname\u001B[49m\u001B[43m)\u001B[49m\u001B[38;5;241;43m.\u001B[39;49m\u001B[43mfilter\u001B[49m(\n\u001B[0;32m      8\u001B[0m     \u001B[38;5;28;01mlambda\u001B[39;00m x: x\u001B[38;5;241m.\u001B[39mcount() \u001B[38;5;241m>\u001B[39m\u001B[38;5;241m=\u001B[39m min_ratings\n\u001B[0;32m      9\u001B[0m )\n\u001B[0;32m     10\u001B[0m valid_indices \u001B[38;5;241m=\u001B[39m [\n\u001B[0;32m     11\u001B[0m     row[\u001B[38;5;124m\"\u001B[39m\u001B[38;5;124mindex\u001B[39m\u001B[38;5;124m\"\u001B[39m]\n\u001B[0;32m     12\u001B[0m     \u001B[38;5;28;01mfor\u001B[39;00m row \u001B[38;5;129;01min\u001B[39;00m filtered_users_df\u001B[38;5;241m.\u001B[39mselect(\u001B[38;5;124m\"\u001B[39m\u001B[38;5;124mindex\u001B[39m\u001B[38;5;124m\"\u001B[39m)\u001B[38;5;241m.\u001B[39mcollect()\n\u001B[0;32m     13\u001B[0m ]\n\u001B[0;32m     14\u001B[0m df \u001B[38;5;241m=\u001B[39m df\u001B[38;5;241m.\u001B[39mwithColumn(\u001B[38;5;124m\"\u001B[39m\u001B[38;5;124mis_valid\u001B[39m\u001B[38;5;124m\"\u001B[39m, col(\u001B[38;5;124m\"\u001B[39m\u001B[38;5;124mindex\u001B[39m\u001B[38;5;124m\"\u001B[39m)\u001B[38;5;241m.\u001B[39misin(valid_indices))\n",
      "\u001B[1;31mAttributeError\u001B[0m: 'GroupedData' object has no attribute 'filter'"
     ]
    }
   ],
   "source": [
    "marked_df = mark_last_n_ratings_as_validation_set(df, n=5, min_ratings=30)"
   ],
   "metadata": {
    "collapsed": false,
    "ExecuteTime": {
     "start_time": "2023-05-07T21:22:51.309826Z",
     "end_time": "2023-05-07T21:22:51.325451Z"
    }
   }
  },
  {
   "cell_type": "code",
   "execution_count": null,
   "outputs": [],
   "source": [
    "train_df = df.filter(df.is_valid == False).drop('is_valid')\n",
    "test_df = df.filter(df.is_valid == True).drop('is_valid')"
   ],
   "metadata": {
    "collapsed": false
   }
  },
  {
   "cell_type": "code",
   "execution_count": 25,
   "outputs": [],
   "source": [
    "# show ratio of train and test data\n",
    "print('Train data ratio: {}'.format(train_df.count() / df.count()))"
   ],
   "metadata": {
    "collapsed": false,
    "ExecuteTime": {
     "start_time": "2023-05-07T21:22:51.325451Z",
     "end_time": "2023-05-07T21:22:51.341075Z"
    }
   }
  },
  {
   "cell_type": "code",
   "execution_count": 25,
   "outputs": [],
   "source": [],
   "metadata": {
    "collapsed": false,
    "ExecuteTime": {
     "start_time": "2023-05-07T21:22:51.341075Z",
     "end_time": "2023-05-07T21:22:51.387951Z"
    }
   }
  },
  {
   "cell_type": "code",
   "execution_count": 25,
   "outputs": [],
   "source": [],
   "metadata": {
    "collapsed": false,
    "ExecuteTime": {
     "start_time": "2023-05-07T21:22:51.356676Z",
     "end_time": "2023-05-07T21:22:51.387951Z"
    }
   }
  },
  {
   "cell_type": "code",
   "execution_count": 25,
   "outputs": [],
   "source": [],
   "metadata": {
    "collapsed": false,
    "ExecuteTime": {
     "start_time": "2023-05-07T21:22:51.372324Z",
     "end_time": "2023-05-07T21:22:51.387951Z"
    }
   }
  },
  {
   "cell_type": "code",
   "execution_count": 25,
   "outputs": [],
   "source": [],
   "metadata": {
    "collapsed": false,
    "ExecuteTime": {
     "start_time": "2023-05-07T21:22:51.391992Z",
     "end_time": "2023-05-07T21:22:51.407670Z"
    }
   }
  },
  {
   "cell_type": "code",
   "execution_count": 25,
   "outputs": [],
   "source": [],
   "metadata": {
    "collapsed": false,
    "ExecuteTime": {
     "start_time": "2023-05-07T21:22:51.391992Z",
     "end_time": "2023-05-07T21:22:51.407670Z"
    }
   }
  },
  {
   "cell_type": "code",
   "execution_count": 25,
   "outputs": [],
   "source": [],
   "metadata": {
    "collapsed": false,
    "ExecuteTime": {
     "start_time": "2023-05-07T21:22:51.407670Z",
     "end_time": "2023-05-07T21:22:51.423290Z"
    }
   }
  },
  {
   "cell_type": "code",
   "execution_count": 25,
   "outputs": [],
   "source": [],
   "metadata": {
    "collapsed": false,
    "ExecuteTime": {
     "start_time": "2023-05-07T21:22:51.423290Z",
     "end_time": "2023-05-07T21:22:51.470186Z"
    }
   }
  },
  {
   "cell_type": "code",
   "execution_count": 25,
   "outputs": [],
   "source": [],
   "metadata": {
    "collapsed": false,
    "ExecuteTime": {
     "start_time": "2023-05-07T21:22:51.438916Z",
     "end_time": "2023-05-07T21:22:51.470186Z"
    }
   }
  },
  {
   "cell_type": "code",
   "execution_count": 25,
   "outputs": [],
   "source": [],
   "metadata": {
    "collapsed": false,
    "ExecuteTime": {
     "start_time": "2023-05-07T21:22:51.454542Z",
     "end_time": "2023-05-07T21:22:51.485812Z"
    }
   }
  },
  {
   "cell_type": "code",
   "execution_count": 25,
   "outputs": [],
   "source": [],
   "metadata": {
    "collapsed": false,
    "ExecuteTime": {
     "start_time": "2023-05-07T21:22:51.470186Z",
     "end_time": "2023-05-07T21:22:51.501417Z"
    }
   }
  },
  {
   "cell_type": "code",
   "execution_count": 25,
   "outputs": [],
   "source": [],
   "metadata": {
    "collapsed": false,
    "ExecuteTime": {
     "start_time": "2023-05-07T21:22:51.485812Z",
     "end_time": "2023-05-07T21:22:51.517666Z"
    }
   }
  }
 ],
 "metadata": {
  "kernelspec": {
   "display_name": "Python 3",
   "language": "python",
   "name": "python3"
  },
  "language_info": {
   "codemirror_mode": {
    "name": "ipython",
    "version": 2
   },
   "file_extension": ".py",
   "mimetype": "text/x-python",
   "name": "python",
   "nbconvert_exporter": "python",
   "pygments_lexer": "ipython2",
   "version": "2.7.6"
  }
 },
 "nbformat": 4,
 "nbformat_minor": 0
}
