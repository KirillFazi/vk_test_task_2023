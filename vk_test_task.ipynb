{
 "cells": [
  {
   "cell_type": "markdown",
   "source": [
    "# Embedding's для MovieLens 27M датасета"
   ],
   "metadata": {
    "collapsed": false
   }
  },
  {
   "cell_type": "markdown",
   "source": [
    "## Описание задачи\n",
    "\n",
    "Необходимо построить векторное представление пользователей и фильмов используя нейросетевые подходы, чтобы можно было по эмбендингу пользователя искать похожие эмбендинги фильмов и рекомендовать ему их.\n",
    "\n",
    "Обратить внимание на:\n",
    "\n",
    "1. Какие данных на обучение и валидацию, обоснование.\n",
    "2. Выбор и обоснование метрики\n",
    "3. Разработка архитектуры нейронной сети с пояснением\n",
    "4. Обучение и валидация\n",
    "5. Решение должно быть воспроизводимым с подробными комментариями на каждом шаге"
   ],
   "metadata": {
    "collapsed": false
   }
  },
  {
   "cell_type": "markdown",
   "source": [
    "## Описание данных\n",
    "\n",
    "*Полный* датасет MovieLens с сайта grouplens.org: https://files.grouplens.org/datasets/movielens/ml-latest.zip\n",
    "\n",
    "В датасете содержится информация о фильмах и оценках пользователей.\n",
    "\n",
    "\n",
    "**Структура файла данных рейтингов (ratings.csv)**\n",
    "\n",
    "-----------------------------------------\n",
    "\n",
    "Все рейтинги содержатся в файле `ratings.csv`. Каждая строка этого файла после строки заголовка представляет собой одну оценку одного фильма одним пользователем и имеет следующий формат:\n",
    "userId,movieId,rating,timestamp\n",
    "\n",
    "Строки в этом файле упорядочены сначала по идентификатору пользователя, затем, внутри пользователя, по идентификатору фильма.\n",
    "\n",
    "Оценки выставляются по 5-звездочной шкале, с шагом в ползвезды (0,5 звезды - 5,0 звезды).\n",
    "\n",
    "Временные метки представляют собой секунды с полуночи по всемирному координированному времени (UTC) от 1 января 1970 года.\n"
   ],
   "metadata": {
    "collapsed": false
   }
  },
  {
   "cell_type": "markdown",
   "source": [
    "## Анализ данных"
   ],
   "metadata": {
    "collapsed": false
   }
  },
  {
   "cell_type": "code",
   "execution_count": 1,
   "outputs": [],
   "source": [
    "import warnings\n",
    "warnings.filterwarnings('ignore')\n",
    "\n",
    "import numpy as np\n",
    "import pandas as pd\n",
    "from pylab import rcParams\n",
    "import matplotlib.pyplot as plt\n",
    "\n",
    "from keras.layers import Dense , Dot, Dropout, Flatten, Input, Embedding\n",
    "from keras.optimizers import Adam\n",
    "from keras.models import Model\n",
    "\n",
    "from sklearn.metrics import mean_squared_error\n",
    "\n",
    "import requests\n",
    "from io import BytesIO\n",
    "from zipfile import ZipFile"
   ],
   "metadata": {
    "collapsed": false,
    "ExecuteTime": {
     "start_time": "2023-05-10T19:47:38.923881Z",
     "end_time": "2023-05-10T19:47:48.473947Z"
    }
   }
  },
  {
   "cell_type": "markdown",
   "source": [
    "Сделаем превечный осмотр данных"
   ],
   "metadata": {
    "collapsed": false
   }
  },
  {
   "cell_type": "code",
   "execution_count": 2,
   "outputs": [],
   "source": [
    "try:\n",
    "    df = pd.read_csv('ml-latest/ratings.csv')\n",
    "except:\n",
    "    path = 'https://files.grouplens.org/datasets/movielens/ml-latest.zip'\n",
    "    with ZipFile(BytesIO(requests.get(path).content)) as z:\n",
    "        with z.open('ml-latest/ratings.csv') as f:\n",
    "            df = pd.read_csv(f)"
   ],
   "metadata": {
    "collapsed": false,
    "ExecuteTime": {
     "start_time": "2023-05-10T19:47:48.475922Z",
     "end_time": "2023-05-10T19:47:59.597210Z"
    }
   }
  },
  {
   "cell_type": "code",
   "execution_count": 3,
   "outputs": [],
   "source": [
    "# make small dataset for testing\n",
    "# df = df[:100_000]"
   ],
   "metadata": {
    "collapsed": false,
    "ExecuteTime": {
     "start_time": "2023-05-10T19:47:59.598204Z",
     "end_time": "2023-05-10T19:47:59.613294Z"
    }
   }
  },
  {
   "cell_type": "code",
   "execution_count": 4,
   "outputs": [
    {
     "data": {
      "text/plain": "   userId  movieId  rating   timestamp\n0       1      307     3.5  1256677221\n1       1      481     3.5  1256677456\n2       1     1091     1.5  1256677471\n3       1     1257     4.5  1256677460\n4       1     1449     4.5  1256677264",
      "text/html": "<div>\n<style scoped>\n    .dataframe tbody tr th:only-of-type {\n        vertical-align: middle;\n    }\n\n    .dataframe tbody tr th {\n        vertical-align: top;\n    }\n\n    .dataframe thead th {\n        text-align: right;\n    }\n</style>\n<table border=\"1\" class=\"dataframe\">\n  <thead>\n    <tr style=\"text-align: right;\">\n      <th></th>\n      <th>userId</th>\n      <th>movieId</th>\n      <th>rating</th>\n      <th>timestamp</th>\n    </tr>\n  </thead>\n  <tbody>\n    <tr>\n      <th>0</th>\n      <td>1</td>\n      <td>307</td>\n      <td>3.5</td>\n      <td>1256677221</td>\n    </tr>\n    <tr>\n      <th>1</th>\n      <td>1</td>\n      <td>481</td>\n      <td>3.5</td>\n      <td>1256677456</td>\n    </tr>\n    <tr>\n      <th>2</th>\n      <td>1</td>\n      <td>1091</td>\n      <td>1.5</td>\n      <td>1256677471</td>\n    </tr>\n    <tr>\n      <th>3</th>\n      <td>1</td>\n      <td>1257</td>\n      <td>4.5</td>\n      <td>1256677460</td>\n    </tr>\n    <tr>\n      <th>4</th>\n      <td>1</td>\n      <td>1449</td>\n      <td>4.5</td>\n      <td>1256677264</td>\n    </tr>\n  </tbody>\n</table>\n</div>"
     },
     "execution_count": 4,
     "metadata": {},
     "output_type": "execute_result"
    }
   ],
   "source": [
    "df.head()"
   ],
   "metadata": {
    "collapsed": false,
    "ExecuteTime": {
     "start_time": "2023-05-10T19:47:59.615273Z",
     "end_time": "2023-05-10T19:47:59.662288Z"
    }
   }
  },
  {
   "cell_type": "code",
   "execution_count": 5,
   "outputs": [
    {
     "name": "stdout",
     "output_type": "stream",
     "text": [
      "<class 'pandas.core.frame.DataFrame'>\n",
      "RangeIndex: 27753444 entries, 0 to 27753443\n",
      "Data columns (total 4 columns):\n",
      " #   Column     Dtype  \n",
      "---  ------     -----  \n",
      " 0   userId     int64  \n",
      " 1   movieId    int64  \n",
      " 2   rating     float64\n",
      " 3   timestamp  int64  \n",
      "dtypes: float64(1), int64(3)\n",
      "memory usage: 847.0 MB\n"
     ]
    }
   ],
   "source": [
    "df.info()"
   ],
   "metadata": {
    "collapsed": false,
    "ExecuteTime": {
     "start_time": "2023-05-10T19:47:59.646290Z",
     "end_time": "2023-05-10T19:47:59.676961Z"
    }
   }
  },
  {
   "cell_type": "code",
   "execution_count": 6,
   "outputs": [],
   "source": [
    "df = df.rename(columns={'userId': 'user_id', 'movieId': 'movie_id'})"
   ],
   "metadata": {
    "collapsed": false,
    "ExecuteTime": {
     "start_time": "2023-05-10T19:47:59.677962Z",
     "end_time": "2023-05-10T19:48:00.137386Z"
    }
   }
  },
  {
   "cell_type": "code",
   "execution_count": 7,
   "outputs": [
    {
     "name": "stdout",
     "output_type": "stream",
     "text": [
      "Количество пользователей: 283228\n",
      "Количество фильмов: 53889\n",
      "\n",
      "Максимальная оценка: 5.0\n",
      "Минимальная оценка: 0.5\n",
      "Медианная оценка: 3.5\n",
      "Количество оценок: 27753444\n",
      "\n",
      "Максимальное количество оценок на пользователя: 23715\n",
      "Минимальное количество оценок на пользователя: 1\n",
      "Медианное количество оценок на пользователя: 30.0\n",
      "\n",
      "Максимальное количество оценок на фильм: 97999\n",
      "Минимальное количество оценок на фильм: 1\n",
      "Медианное количество оценок на фильм: 7.0\n"
     ]
    }
   ],
   "source": [
    "rating_pre_user = df.groupby('user_id')['rating'].count()\n",
    "rating_pre_movie = df.groupby('movie_id')['rating'].count()\n",
    "\n",
    "print(f'Количество пользователей: {len(rating_pre_user)}')\n",
    "print(f'Количество фильмов: {len(rating_pre_movie)}')\n",
    "print()\n",
    "\n",
    "print(f'Максимальная оценка: {df[\"rating\"].max()}')\n",
    "print(f'Минимальная оценка: {df[\"rating\"].min()}')\n",
    "print(f'Медианная оценка: {df[\"rating\"].median()}')\n",
    "print(f'Количество оценок: {df[\"rating\"].count()}')\n",
    "print()\n",
    "\n",
    "print(f'Максимальное количество оценок на пользователя: {rating_pre_user.max()}')\n",
    "print(f'Минимальное количество оценок на пользователя: {rating_pre_user.min()}')\n",
    "print(f'Медианное количество оценок на пользователя: {rating_pre_user.median()}')\n",
    "print()\n",
    "\n",
    "print(f'Максимальное количество оценок на фильм: {rating_pre_movie.max()}')\n",
    "print(f'Минимальное количество оценок на фильм: {rating_pre_movie.min()}')\n",
    "print(f'Медианное количество оценок на фильм: {rating_pre_movie.median()}')\n",
    "\n",
    "del rating_pre_user, rating_pre_movie"
   ],
   "metadata": {
    "collapsed": false,
    "ExecuteTime": {
     "start_time": "2023-05-10T19:48:00.141385Z",
     "end_time": "2023-05-10T19:48:03.230177Z"
    }
   }
  },
  {
   "cell_type": "markdown",
   "source": [
    "Данный вывод дает основное представление о данных. Все кажется отличным, кроме id фильмов. Он не имеет такого же порядка, как у id пользователя. Нужно будет при обучении создавать собственный словарь для id, чтобы не было проблем с размерностью."
   ],
   "metadata": {
    "collapsed": false
   }
  },
  {
   "cell_type": "code",
   "execution_count": 8,
   "outputs": [
    {
     "name": "stdout",
     "output_type": "stream",
     "text": [
      "Максимальный ID пользователя: 283228\n",
      "Минимальный ID пользователя: 1 \n",
      "\n",
      "Максимальный ID фильма: 193886\n",
      "Минимальный ID фильма: 1 \n",
      "\n",
      "Кол-во уникальных ID пользователей: 283228\n",
      "Кол-во уникальных ID фильмов: 53889\n"
     ]
    }
   ],
   "source": [
    "print(f'Максимальный ID пользователя: {df[\"user_id\"].max()}')\n",
    "print(f'Минимальный ID пользователя: {df[\"user_id\"].min()} \\n')\n",
    "\n",
    "print(f'Максимальный ID фильма: {df[\"movie_id\"].max()}')\n",
    "print(f'Минимальный ID фильма: {df[\"movie_id\"].min()} \\n')\n",
    "\n",
    "print(f'Кол-во уникальных ID пользователей: {df[\"user_id\"].nunique()}')\n",
    "print(f'Кол-во уникальных ID фильмов: {df[\"movie_id\"].nunique()}')"
   ],
   "metadata": {
    "collapsed": false,
    "ExecuteTime": {
     "start_time": "2023-05-10T19:48:03.231177Z",
     "end_time": "2023-05-10T19:48:04.088464Z"
    }
   }
  },
  {
   "cell_type": "markdown",
   "source": [
    "Данный вывод, так же, подтверждает необходимость создания собственного словаря для id."
   ],
   "metadata": {
    "collapsed": false
   }
  },
  {
   "cell_type": "code",
   "execution_count": 9,
   "outputs": [
    {
     "data": {
      "text/plain": "user_id      0\nmovie_id     0\nrating       0\ntimestamp    0\ndtype: int64"
     },
     "execution_count": 9,
     "metadata": {},
     "output_type": "execute_result"
    }
   ],
   "source": [
    "df.isna().sum()"
   ],
   "metadata": {
    "collapsed": false,
    "ExecuteTime": {
     "start_time": "2023-05-10T19:48:04.089444Z",
     "end_time": "2023-05-10T19:48:04.293604Z"
    }
   }
  },
  {
   "cell_type": "code",
   "execution_count": 10,
   "outputs": [
    {
     "data": {
      "text/plain": "0"
     },
     "execution_count": 10,
     "metadata": {},
     "output_type": "execute_result"
    }
   ],
   "source": [
    "df.duplicated().sum()"
   ],
   "metadata": {
    "collapsed": false,
    "ExecuteTime": {
     "start_time": "2023-05-10T19:48:04.296605Z",
     "end_time": "2023-05-10T19:48:19.963150Z"
    }
   }
  },
  {
   "cell_type": "markdown",
   "source": [
    "В данных не обнаружено пропусков и дубликатов. Можно приступать к подготовке данных."
   ],
   "metadata": {
    "collapsed": false
   }
  },
  {
   "cell_type": "markdown",
   "source": [
    "## Подготовка данных"
   ],
   "metadata": {
    "collapsed": false
   }
  },
  {
   "cell_type": "code",
   "execution_count": 11,
   "outputs": [],
   "source": [
    "df['user_id'] = df['user_id'].astype('category').cat.codes.values\n",
    "df['movie_id'] = df['movie_id'].astype('category').cat.codes.values"
   ],
   "metadata": {
    "collapsed": false,
    "ExecuteTime": {
     "start_time": "2023-05-10T19:48:19.964150Z",
     "end_time": "2023-05-10T19:48:21.937726Z"
    }
   }
  },
  {
   "cell_type": "code",
   "execution_count": 12,
   "outputs": [
    {
     "data": {
      "text/plain": "user_id\n47251     1\n5366      1\n5364      1\n32981     1\n150426    1\nName: count, dtype: int64"
     },
     "execution_count": 12,
     "metadata": {},
     "output_type": "execute_result"
    }
   ],
   "source": [
    "df['user_id'].value_counts(ascending=True).head()"
   ],
   "metadata": {
    "collapsed": false,
    "ExecuteTime": {
     "start_time": "2023-05-10T19:48:21.939726Z",
     "end_time": "2023-05-10T19:48:22.226050Z"
    }
   }
  },
  {
   "cell_type": "code",
   "execution_count": 13,
   "outputs": [],
   "source": [
    "users = df['user_id'].unique()\n",
    "movies = df['movie_id'].unique()\n",
    "\n",
    "userid2idx = {o:i for i,o in enumerate(users)}\n",
    "movieid2idx = {o:i for i,o in enumerate(movies)}\n",
    "\n",
    "df['user_id'] = df['user_id'].apply(lambda x: userid2idx[x])\n",
    "df['movie_id'] = df['movie_id'].apply(lambda x: movieid2idx[x])"
   ],
   "metadata": {
    "collapsed": false,
    "ExecuteTime": {
     "start_time": "2023-05-10T19:48:22.228035Z",
     "end_time": "2023-05-10T19:48:46.441324Z"
    }
   }
  },
  {
   "cell_type": "markdown",
   "source": [
    "Как я и говорил, создадим собственный словарь для id и перезапишем id в датасете. Так мы можем быть уверены, что размерность данных будет соответствовать размерности векторов."
   ],
   "metadata": {
    "collapsed": false
   }
  },
  {
   "cell_type": "markdown",
   "source": [
    "Нужно произвести разделение данных на обучающую и тестовую выборки. Для этого воспользуемся функцией из статьи [Сравнение матричной факторизации с трансформерами на наборе данных MovieLens с применением библиотеки pytorch-acceleratd](https://habr.com/ru/companies/wunderfund/articles/645921/).\n",
    "\n",
    "Данные функции не позволят допустить утечки данных в тестовую выборку. И оценка качества модели будет более объективной."
   ],
   "metadata": {
    "collapsed": false
   }
  },
  {
   "cell_type": "code",
   "execution_count": 14,
   "outputs": [],
   "source": [
    "def get_last_n_ratings_by_user(\n",
    "        df, n, min_ratings_per_user=1, user_colname=\"user_id\", timestamp_colname=\"timestamp\"\n",
    "):\n",
    "    return (\n",
    "        df.groupby(user_colname)\n",
    "        .filter(lambda x: len(x) >= min_ratings_per_user)\n",
    "        .sort_values(timestamp_colname)\n",
    "        .groupby(user_colname)\n",
    "        .tail(n)\n",
    "        .sort_values(user_colname)\n",
    "    )"
   ],
   "metadata": {
    "collapsed": false,
    "ExecuteTime": {
     "start_time": "2023-05-10T19:48:46.442328Z",
     "end_time": "2023-05-10T19:48:46.456344Z"
    }
   }
  },
  {
   "cell_type": "code",
   "execution_count": 15,
   "outputs": [],
   "source": [
    "def mark_last_n_ratings_as_validation_set(\n",
    "        df, n, min_ratings=1, user_colname=\"user_id\", timestamp_colname=\"timestamp\"\n",
    "):\n",
    "    \"\"\"\n",
    "    Отмечает n последних по времени оценок, что включает их в проверочную выборку.\n",
    "    Делается это путём добавления дополнительного столбца 'is_valid' в df.\n",
    "    :param df: объект DataFrame, содержащий оценки, данные пользователем\n",
    "    :param n: количество оценок, которые надо включить в проверочную выборку\n",
    "    :param min_ratings: включать лишь пользователей, имеющих более этого количества оценок\n",
    "    :param user_id_colname: имя столбца, содержащего идентификатор пользователя\n",
    "    :param timestamp_colname: имя столбца, содержащего отметку времени\n",
    "    :return: тот же df, в который добавлен дополнительный столбец 'is_valid'\n",
    "    \"\"\"\n",
    "    df[\"is_valid\"] = False\n",
    "    df.loc[\n",
    "        get_last_n_ratings_by_user(\n",
    "            df,\n",
    "            n,\n",
    "            min_ratings,\n",
    "            user_colname=user_colname,\n",
    "            timestamp_colname=timestamp_colname,\n",
    "        ).index,\n",
    "        \"is_valid\",\n",
    "    ] = True\n",
    "    return df"
   ],
   "metadata": {
    "collapsed": false,
    "ExecuteTime": {
     "start_time": "2023-05-10T19:48:46.458344Z",
     "end_time": "2023-05-10T19:48:46.510325Z"
    }
   }
  },
  {
   "cell_type": "code",
   "execution_count": 16,
   "outputs": [],
   "source": [
    "mark_last_n_ratings_as_validation_set(df, n=10, min_ratings=10);"
   ],
   "metadata": {
    "collapsed": false,
    "ExecuteTime": {
     "start_time": "2023-05-10T19:48:46.473324Z",
     "end_time": "2023-05-10T19:49:13.765954Z"
    }
   }
  },
  {
   "cell_type": "code",
   "execution_count": 17,
   "outputs": [],
   "source": [
    "train_df = df[df['is_valid'] == False].drop(columns=['is_valid'])\n",
    "test_df = df[df['is_valid'] == True].drop(columns=['is_valid'])"
   ],
   "metadata": {
    "collapsed": false,
    "ExecuteTime": {
     "start_time": "2023-05-10T19:49:13.766951Z",
     "end_time": "2023-05-10T19:49:16.117401Z"
    }
   }
  },
  {
   "cell_type": "markdown",
   "source": [
    "Применяем функции для разделения данных на обучающую и тестовую выборки. Мы берем 8 последних оценок пользователя у которого оценено больше 20 фильмов и помечаем их как тестовые. И на основе этих пометок создаем два датасета `train_df` и `test_df`."
   ],
   "metadata": {
    "collapsed": false
   }
  },
  {
   "cell_type": "code",
   "execution_count": 18,
   "outputs": [
    {
     "name": "stdout",
     "output_type": "stream",
     "text": [
      "Количество строк в тренировочном датасете: 25316864\n",
      "Количество строк в тестовом датасете: 2436580\n",
      "11.39% тестового датасета\n"
     ]
    }
   ],
   "source": [
    "# show ratio of train and test data\n",
    "print(f'Количество строк в тренировочном датасете: {len(train_df)}')\n",
    "print(f'Количество строк в тестовом датасете: {len(test_df)}')\n",
    "print(f'{len(df) / len(test_df):.2f}% тестового датасета')"
   ],
   "metadata": {
    "collapsed": false,
    "ExecuteTime": {
     "start_time": "2023-05-10T19:49:16.118420Z",
     "end_time": "2023-05-10T19:49:16.133419Z"
    }
   }
  },
  {
   "cell_type": "markdown",
   "source": [
    "Примерное соотношение 90:10. Почти, 10% данных будет достаточно для тестирования модели. Произведем разделение данных на обучающую и валидационную выборки, по такому же принципу."
   ],
   "metadata": {
    "collapsed": false
   }
  },
  {
   "cell_type": "code",
   "execution_count": 19,
   "outputs": [],
   "source": [
    "df_train = mark_last_n_ratings_as_validation_set(train_df, n=5, min_ratings=5)"
   ],
   "metadata": {
    "collapsed": false,
    "ExecuteTime": {
     "start_time": "2023-05-10T19:49:16.134402Z",
     "end_time": "2023-05-10T19:49:43.008615Z"
    }
   }
  },
  {
   "cell_type": "code",
   "execution_count": 20,
   "outputs": [],
   "source": [
    "train = df_train[df_train['is_valid'] == False].drop(columns=['is_valid'])\n",
    "valid = df_train[df_train['is_valid'] == True].drop(columns=['is_valid'])\n",
    "\n",
    "del df_train"
   ],
   "metadata": {
    "collapsed": false,
    "ExecuteTime": {
     "start_time": "2023-05-10T19:49:43.009611Z",
     "end_time": "2023-05-10T19:49:45.171480Z"
    }
   }
  },
  {
   "cell_type": "code",
   "execution_count": 21,
   "outputs": [
    {
     "name": "stdout",
     "output_type": "stream",
     "text": [
      "Количество строк в тренировочном датасете: 24090579\n",
      "Количество строк в проверочном датасете: 1226285\n",
      "20.65% тестового датасета\n"
     ]
    }
   ],
   "source": [
    "# show ratio of train and test data\n",
    "print(f'Количество строк в тренировочном датасете: {len(train)}')\n",
    "print(f'Количество строк в проверочном датасете: {len(valid)}')\n",
    "print(f'{len(train_df) / len(valid):.2f}% тестового датасета')"
   ],
   "metadata": {
    "collapsed": false,
    "ExecuteTime": {
     "start_time": "2023-05-10T19:49:45.172481Z",
     "end_time": "2023-05-10T19:49:45.186015Z"
    }
   }
  },
  {
   "cell_type": "markdown",
   "source": [
    "Примерное соотношение 80:20. Почти, 20% данных будет достаточно для валидации модели. Можно переходить к обучению моделей."
   ],
   "metadata": {
    "collapsed": false
   }
  },
  {
   "cell_type": "code",
   "execution_count": 22,
   "outputs": [],
   "source": [
    "del train_df"
   ],
   "metadata": {
    "collapsed": false,
    "ExecuteTime": {
     "start_time": "2023-05-10T19:49:45.186998Z",
     "end_time": "2023-05-10T19:49:45.358070Z"
    }
   }
  },
  {
   "cell_type": "code",
   "execution_count": 23,
   "outputs": [
    {
     "data": {
      "text/plain": "    user_id  movie_id  rating   timestamp\n14        0        14     2.0  1256677210\n41        2        41     4.0   945141407\n42        3        42     4.0  1113765937\n43        3        43     4.0  1113767306\n44        3        44     2.0  1123990453",
      "text/html": "<div>\n<style scoped>\n    .dataframe tbody tr th:only-of-type {\n        vertical-align: middle;\n    }\n\n    .dataframe tbody tr th {\n        vertical-align: top;\n    }\n\n    .dataframe thead th {\n        text-align: right;\n    }\n</style>\n<table border=\"1\" class=\"dataframe\">\n  <thead>\n    <tr style=\"text-align: right;\">\n      <th></th>\n      <th>user_id</th>\n      <th>movie_id</th>\n      <th>rating</th>\n      <th>timestamp</th>\n    </tr>\n  </thead>\n  <tbody>\n    <tr>\n      <th>14</th>\n      <td>0</td>\n      <td>14</td>\n      <td>2.0</td>\n      <td>1256677210</td>\n    </tr>\n    <tr>\n      <th>41</th>\n      <td>2</td>\n      <td>41</td>\n      <td>4.0</td>\n      <td>945141407</td>\n    </tr>\n    <tr>\n      <th>42</th>\n      <td>3</td>\n      <td>42</td>\n      <td>4.0</td>\n      <td>1113765937</td>\n    </tr>\n    <tr>\n      <th>43</th>\n      <td>3</td>\n      <td>43</td>\n      <td>4.0</td>\n      <td>1113767306</td>\n    </tr>\n    <tr>\n      <th>44</th>\n      <td>3</td>\n      <td>44</td>\n      <td>2.0</td>\n      <td>1123990453</td>\n    </tr>\n  </tbody>\n</table>\n</div>"
     },
     "execution_count": 23,
     "metadata": {},
     "output_type": "execute_result"
    }
   ],
   "source": [
    "train.head()"
   ],
   "metadata": {
    "collapsed": false,
    "ExecuteTime": {
     "start_time": "2023-05-10T19:49:45.359584Z",
     "end_time": "2023-05-10T19:49:45.374660Z"
    }
   }
  },
  {
   "cell_type": "markdown",
   "source": [
    "## Построение модели"
   ],
   "metadata": {
    "collapsed": false
   }
  },
  {
   "cell_type": "markdown",
   "source": [
    "\n",
    "Модель:\n",
    "- Будем использовать стандартный подход создания эмбеддингов для `users` и `items` - Low Rank Matrix Factorization. Но мы так же добавим прореживание и один слой с 96 нейронами. На выходе будет один нейрон, который будет выдавать оценку фильма. В обоих слоях будем использовать `relu` функцию активации.\n",
    "\n",
    "Метрика:\n",
    "- Для обучения модели была выбрана метрика `MSE` (Mean Squared Error). MSE обычно используется в рекомендательных системах на основе матричной факторизации, поскольку он является гладким, дифференцируемым, хорошо понятным и может быть оптимизирован с помощью градиентных методов. Он также эффективен для предотвращения чрезмерной подгонки и может быть настроен для достижения хорошей производительности."
   ],
   "metadata": {
    "collapsed": false
   }
  },
  {
   "cell_type": "code",
   "execution_count": 24,
   "outputs": [],
   "source": [
    "n_movies = len(df['movie_id'].unique())\n",
    "n_users = len(df['user_id'].unique())\n",
    "\n",
    "n_latent_factors = 50\n",
    "dropout_rate = 0.4"
   ],
   "metadata": {
    "collapsed": false,
    "ExecuteTime": {
     "start_time": "2023-05-10T19:49:45.374660Z",
     "end_time": "2023-05-10T19:49:46.289062Z"
    }
   }
  },
  {
   "cell_type": "code",
   "execution_count": 25,
   "outputs": [],
   "source": [
    "user_input = Input(shape=(1,), name='user_input', dtype='int64')\n",
    "user_embedding = Embedding(n_users, n_latent_factors, name='user_embedding')(user_input)\n",
    "user_vec = Flatten(name='FlattenUsers')(user_embedding)\n",
    "user_vec = Dropout(dropout_rate)(user_vec)"
   ],
   "metadata": {
    "collapsed": false,
    "ExecuteTime": {
     "start_time": "2023-05-10T19:49:46.287018Z",
     "end_time": "2023-05-10T19:49:46.358430Z"
    }
   }
  },
  {
   "cell_type": "code",
   "execution_count": 26,
   "outputs": [],
   "source": [
    "movie_input = Input(shape=(1,), name='movie_input', dtype='int64')\n",
    "movie_embedding = Embedding(n_movies, n_latent_factors, name='movie_embedding')(movie_input)\n",
    "movie_vec = Flatten(name='FlattenMovies')(movie_embedding)\n",
    "movie_vec = Dropout(dropout_rate)(movie_vec)"
   ],
   "metadata": {
    "collapsed": false,
    "ExecuteTime": {
     "start_time": "2023-05-10T19:49:46.359448Z",
     "end_time": "2023-05-10T19:49:46.421395Z"
    }
   }
  },
  {
   "cell_type": "code",
   "execution_count": 27,
   "outputs": [],
   "source": [
    "sim = Dot(name='Similarity', axes=1)([user_vec, movie_vec])"
   ],
   "metadata": {
    "collapsed": false,
    "ExecuteTime": {
     "start_time": "2023-05-10T19:49:46.405261Z",
     "end_time": "2023-05-10T19:49:46.448945Z"
    }
   }
  },
  {
   "cell_type": "code",
   "execution_count": 28,
   "outputs": [
    {
     "name": "stdout",
     "output_type": "stream",
     "text": [
      "Model: \"model\"\n",
      "__________________________________________________________________________________________________\n",
      " Layer (type)                   Output Shape         Param #     Connected to                     \n",
      "==================================================================================================\n",
      " user_input (InputLayer)        [(None, 1)]          0           []                               \n",
      "                                                                                                  \n",
      " movie_input (InputLayer)       [(None, 1)]          0           []                               \n",
      "                                                                                                  \n",
      " user_embedding (Embedding)     (None, 1, 50)        14161400    ['user_input[0][0]']             \n",
      "                                                                                                  \n",
      " movie_embedding (Embedding)    (None, 1, 50)        2694450     ['movie_input[0][0]']            \n",
      "                                                                                                  \n",
      " FlattenUsers (Flatten)         (None, 50)           0           ['user_embedding[0][0]']         \n",
      "                                                                                                  \n",
      " FlattenMovies (Flatten)        (None, 50)           0           ['movie_embedding[0][0]']        \n",
      "                                                                                                  \n",
      " dropout (Dropout)              (None, 50)           0           ['FlattenUsers[0][0]']           \n",
      "                                                                                                  \n",
      " dropout_1 (Dropout)            (None, 50)           0           ['FlattenMovies[0][0]']          \n",
      "                                                                                                  \n",
      " Similarity (Dot)               (None, 1)            0           ['dropout[0][0]',                \n",
      "                                                                  'dropout_1[0][0]']              \n",
      "                                                                                                  \n",
      " dense (Dense)                  (None, 96)           192         ['Similarity[0][0]']             \n",
      "                                                                                                  \n",
      " dropout_2 (Dropout)            (None, 96)           0           ['dense[0][0]']                  \n",
      "                                                                                                  \n",
      " dense_1 (Dense)                (None, 1)            97          ['dropout_2[0][0]']              \n",
      "                                                                                                  \n",
      "==================================================================================================\n",
      "Total params: 16,856,139\n",
      "Trainable params: 16,856,139\n",
      "Non-trainable params: 0\n",
      "__________________________________________________________________________________________________\n"
     ]
    }
   ],
   "source": [
    "nn_inp = Dense(96, activation='relu')(sim)\n",
    "nn_inp = Dropout(dropout_rate)(nn_inp)\n",
    "nn_inp = Dense(1, activation='relu')(nn_inp)\n",
    "nn_model = Model([user_input, movie_input], nn_inp)\n",
    "nn_model.summary()"
   ],
   "metadata": {
    "collapsed": false,
    "ExecuteTime": {
     "start_time": "2023-05-10T19:49:46.441442Z",
     "end_time": "2023-05-10T19:49:46.555976Z"
    }
   }
  },
  {
   "cell_type": "markdown",
   "source": [
    "Как и писалось выше, создаем модель, используя keras. В качестве входных данных будут `user_id` и `movie_id`. Для каждого из них создаем эмбеддинги с `latent factors` 50. Далее применяем `Dropout` для регуляризации. Далее применяем `Dot` для получения скалярного произведения эмбеддингов. Далее применяем `Dense` слой с 96 нейронами и функцией активации `relu`. Далее применяем `Dropout` для регуляризации. Далее применяем `Dense` слой с 1 нейроном и функцией активации `relu`. И выводим модель на экран. Все создалось успешно. Можно компилировать модель. Будем использовать оптимизатор `Adam` с `learning rate` 0.001 и функцию потерь `mse`."
   ],
   "metadata": {
    "collapsed": false
   }
  },
  {
   "cell_type": "code",
   "execution_count": 29,
   "outputs": [],
   "source": [
    "nn_model.compile(optimizer=Adam(lr=1e-3), loss='mse')"
   ],
   "metadata": {
    "collapsed": false,
    "ExecuteTime": {
     "start_time": "2023-05-10T19:49:46.529175Z",
     "end_time": "2023-05-10T19:49:46.582737Z"
    }
   }
  },
  {
   "cell_type": "markdown",
   "source": [
    "Для обучения возьмем `batch_size` 1024 и `epochs` 5. Этого будет достаточно, что дойти до хорошего результата за небольшое время и модель не успеет переобучиться."
   ],
   "metadata": {
    "collapsed": false
   }
  },
  {
   "cell_type": "code",
   "execution_count": 30,
   "outputs": [],
   "source": [
    "batch_size = 20_000\n",
    "epochs = 5"
   ],
   "metadata": {
    "collapsed": false,
    "ExecuteTime": {
     "start_time": "2023-05-10T19:49:46.560167Z",
     "end_time": "2023-05-10T19:49:46.582737Z"
    }
   }
  },
  {
   "cell_type": "code",
   "execution_count": 31,
   "outputs": [
    {
     "name": "stdout",
     "output_type": "stream",
     "text": [
      "Epoch 1/5\n",
      "1205/1205 [==============================] - 243s 199ms/step - loss: 2.0879 - val_loss: 1.0431\n",
      "Epoch 2/5\n",
      "1205/1205 [==============================] - 240s 199ms/step - loss: 0.8947 - val_loss: 0.9692\n",
      "Epoch 3/5\n",
      "1205/1205 [==============================] - 238s 198ms/step - loss: 0.8308 - val_loss: 0.9428\n",
      "Epoch 4/5\n",
      "1205/1205 [==============================] - 238s 197ms/step - loss: 0.7942 - val_loss: 0.9282\n",
      "Epoch 5/5\n",
      "1205/1205 [==============================] - 239s 198ms/step - loss: 0.7575 - val_loss: 0.9203\n"
     ]
    }
   ],
   "source": [
    "history = nn_model.fit(\n",
    "    x=[train['user_id'], train['movie_id']],\n",
    "    y=train['rating'],\n",
    "    batch_size=batch_size,\n",
    "    epochs=epochs,\n",
    "    validation_data=([valid['user_id'], valid['movie_id']], valid['rating']),\n",
    "    verbose=1\n",
    ")"
   ],
   "metadata": {
    "collapsed": false,
    "ExecuteTime": {
     "start_time": "2023-05-10T19:49:46.575731Z",
     "end_time": "2023-05-10T20:09:45.012129Z"
    }
   }
  },
  {
   "cell_type": "markdown",
   "source": [
    "## Анализ модели"
   ],
   "metadata": {
    "collapsed": false
   }
  },
  {
   "cell_type": "markdown",
   "source": [
    "Построим графики обучения модели. Чтобы отследить переобучение модели."
   ],
   "metadata": {
    "collapsed": false
   }
  },
  {
   "cell_type": "code",
   "execution_count": 32,
   "outputs": [
    {
     "data": {
      "text/plain": "<Figure size 1000x500 with 1 Axes>",
      "image/png": "[encoded data removed]"
     },
     "metadata": {},
     "output_type": "display_data"
    }
   ],
   "source": [
    "rcParams['figure.figsize'] = 10, 5\n",
    "\n",
    "plt.plot(history.history['loss'] , 'g')\n",
    "plt.plot(history.history['val_loss'] , 'b')\n",
    "plt.title('model loss')\n",
    "plt.ylabel('loss')\n",
    "plt.xlabel('epoch')\n",
    "plt.legend(['train', 'valid'], loc='upper left')\n",
    "plt.grid(True)\n",
    "plt.show()"
   ],
   "metadata": {
    "collapsed": false,
    "ExecuteTime": {
     "start_time": "2023-05-10T20:09:45.012129Z",
     "end_time": "2023-05-10T20:09:45.322782Z"
    }
   }
  },
  {
   "cell_type": "markdown",
   "source": [
    "Помимо этого, проверим модель на тестовых данных. И после сравним с константной моделью."
   ],
   "metadata": {
    "collapsed": false
   }
  },
  {
   "cell_type": "code",
   "execution_count": 33,
   "outputs": [
    {
     "name": "stdout",
     "output_type": "stream",
     "text": [
      "76144/76144 [==============================] - 88s 1ms/step - loss: 0.9448\n"
     ]
    },
    {
     "data": {
      "text/plain": "0.9447519779205322"
     },
     "execution_count": 33,
     "metadata": {},
     "output_type": "execute_result"
    }
   ],
   "source": [
    "# evaluate model\n",
    "nn_model.evaluate(x=[test_df['user_id'], test_df['movie_id']], y=test_df['rating'])"
   ],
   "metadata": {
    "collapsed": false,
    "ExecuteTime": {
     "start_time": "2023-05-10T20:09:45.320687Z",
     "end_time": "2023-05-10T20:11:13.083499Z"
    }
   }
  },
  {
   "cell_type": "code",
   "execution_count": 35,
   "outputs": [
    {
     "name": "stdout",
     "output_type": "stream",
     "text": [
      "Constant model MSE: 1.2132921589921126\n"
     ]
    }
   ],
   "source": [
    "# constant model\n",
    "constant_model = np.full_like(test_df['rating'], train['rating'].mean())\n",
    "\n",
    "print(f'Constant model MSE: {mean_squared_error(test_df[\"rating\"], constant_model)}')"
   ],
   "metadata": {
    "collapsed": false,
    "ExecuteTime": {
     "start_time": "2023-05-10T20:23:47.225758Z",
     "end_time": "2023-05-10T20:23:47.382549Z"
    }
   }
  },
  {
   "cell_type": "markdown",
   "source": [
    "Вывод и сравнение"
   ],
   "metadata": {
    "collapsed": false
   }
  },
  {
   "cell_type": "code",
   "execution_count": 36,
   "outputs": [],
   "source": [
    "# save model\n",
    "nn_model.save('models/nn_model_17M_10-05-2023.h5')"
   ],
   "metadata": {
    "collapsed": false,
    "ExecuteTime": {
     "start_time": "2023-05-10T20:23:58.809268Z",
     "end_time": "2023-05-10T20:23:59.654299Z"
    }
   }
  },
  {
   "cell_type": "markdown",
   "source": [
    "## Создание рекомендаций на основе эмбеддингов"
   ],
   "metadata": {
    "collapsed": false
   }
  },
  {
   "cell_type": "markdown",
   "source": [
    "Достанем веса из обученной модели. Запишем веса эмбеддингов пользователей и фильмов в отдельные переменные."
   ],
   "metadata": {
    "collapsed": false
   }
  },
  {
   "cell_type": "code",
   "execution_count": 37,
   "outputs": [],
   "source": [
    "user_embeddings = nn_model.get_layer('user_embedding').get_weights()[0]\n",
    "movie_embeddings = nn_model.get_layer('movie_embedding').get_weights()[0]"
   ],
   "metadata": {
    "collapsed": false,
    "ExecuteTime": {
     "start_time": "2023-05-10T20:24:14.467523Z",
     "end_time": "2023-05-10T20:24:14.561264Z"
    }
   }
  },
  {
   "cell_type": "markdown",
   "source": [
    "Сохраним эмбеддинги в файлы. Чтобы потом их можно было использовать без необходимости обучать модель заново."
   ],
   "metadata": {
    "collapsed": false
   }
  },
  {
   "cell_type": "code",
   "execution_count": 38,
   "outputs": [],
   "source": [
    "# save embeddings\n",
    "np.save('embeddings/user_embeddings.npy', user_embeddings)\n",
    "np.save('embeddings/movie_embeddings.npy', movie_embeddings)"
   ],
   "metadata": {
    "collapsed": false,
    "ExecuteTime": {
     "start_time": "2023-05-10T20:24:15.995835Z",
     "end_time": "2023-05-10T20:24:16.261485Z"
    }
   }
  },
  {
   "cell_type": "code",
   "execution_count": 39,
   "outputs": [],
   "source": [
    "# load embeddings\n",
    "# user_embeddings = np.load('embeddings/user_embeddings.npy')\n",
    "# movie_embeddings = np.load('embeddings/movie_embeddings.npy')"
   ],
   "metadata": {
    "collapsed": false,
    "ExecuteTime": {
     "start_time": "2023-05-10T20:24:21.598092Z",
     "end_time": "2023-05-10T20:24:21.645011Z"
    }
   }
  },
  {
   "cell_type": "markdown",
   "source": [
    "Реализуем простой пример, как можно применить эмбеддинги для рекомендаций. Для этого возьмем `user_id` пользователя . Достанем его эмбеддинг. Нормализуем эмбеддинги фильмов. Посчитаем скалярное произведение эмбеддинга пользователя и эмбеддингов фильмов. И выберем топ 10 фильмов с наибольшими значениями скалярного произведения."
   ],
   "metadata": {
    "collapsed": false
   }
  },
  {
   "cell_type": "code",
   "execution_count": 40,
   "outputs": [],
   "source": [
    "# define function to make recommendations\n",
    "def make_recommendations(user_id: int, n_movies: int = 10) -> np.ndarray:\n",
    "    \"\"\"\n",
    "    Make movie recommendations for user_id\n",
    "    :param user_id: id of user to make recommendations. Starts at 1 (user_id - 1)\n",
    "    :param n_movies: count of movies to recommend. Default 10\n",
    "    :return: top n_movies ids\n",
    "    \"\"\"\n",
    "    user_embedding = user_embeddings[user_id-1]\n",
    "\n",
    "    movie_embeddings_norm = movie_embeddings / np.linalg.norm(movie_embeddings, axis = 1).reshape((-1, 1))\n",
    "    scores = user_embedding.dot(movie_embeddings_norm.T)\n",
    "\n",
    "    top_movies = np.argpartition(scores, -n_movies)[-n_movies:]\n",
    "\n",
    "    return top_movies"
   ],
   "metadata": {
    "collapsed": false,
    "ExecuteTime": {
     "start_time": "2023-05-10T20:24:22.318821Z",
     "end_time": "2023-05-10T20:24:22.334426Z"
    }
   }
  },
  {
   "cell_type": "code",
   "execution_count": 43,
   "outputs": [
    {
     "name": "stdout",
     "output_type": "stream",
     "text": [
      "Top 10 movies for user 1:\n",
      "[16079  3634 24780  3171     6 25947  1945  6461  3246  4504]\n"
     ]
    }
   ],
   "source": [
    "user_id = 1\n",
    "top_movies = make_recommendations(user_id)\n",
    "print(f'Top 10 movies for user {user_id}:')\n",
    "print(top_movies)"
   ],
   "metadata": {
    "collapsed": false,
    "ExecuteTime": {
     "start_time": "2023-05-10T20:25:30.912261Z",
     "end_time": "2023-05-10T20:25:30.959170Z"
    }
   }
  },
  {
   "cell_type": "markdown",
   "source": [
    "Данную рекомендацию можно использовать и предлагать пользователям. Но, чтобы сделать ее более интересной, можно добавить фильтрацию по жанрам, годам, рейтингу и т.д."
   ],
   "metadata": {
    "collapsed": false
   }
  },
  {
   "cell_type": "markdown",
   "source": [
    "### Создание эмбеддингов для новых пользователей"
   ],
   "metadata": {
    "collapsed": false
   }
  },
  {
   "cell_type": "code",
   "execution_count": 44,
   "outputs": [
    {
     "name": "stdout",
     "output_type": "stream",
     "text": [
      "1/1 [==============================] - 0s 131ms/step\n"
     ]
    }
   ],
   "source": [
    "# make embeddings for new user\n",
    "new_user = {'user_id': [138494], 'movie_id': [1], 'rating': [5]}\n",
    "new_user = pd.DataFrame(new_user)\n",
    "\n",
    "new_user_embedding = nn_model.predict([new_user['user_id'], new_user['movie_id']])"
   ],
   "metadata": {
    "collapsed": false,
    "ExecuteTime": {
     "start_time": "2023-05-10T20:25:33.497773Z",
     "end_time": "2023-05-10T20:25:33.691707Z"
    }
   }
  },
  {
   "cell_type": "markdown",
   "source": [
    "Сверху переведен код того, как можно добавлять новых пользователей в систему. Но в данном случае, мы не будем добавлять новых пользователей. Поэтому, просто продемонстрируем, как можно получить эмбеддинги для новых пользователей."
   ],
   "metadata": {
    "collapsed": false
   }
  },
  {
   "cell_type": "markdown",
   "source": [
    "## Вывод"
   ],
   "metadata": {
    "collapsed": false
   }
  },
  {
   "cell_type": "markdown",
   "source": [
    "В ходе выполнения данного проекта были реализованы следующие задачи:\n",
    "- **Подготовка данных**\n",
    "- - Загрузка данных\n",
    "- - Проверка на пропуски и дубликаты\n",
    "- - Разделение данных на train, valid, test учитывая временную зависимость\n",
    "\n",
    "|\n",
    "\n",
    "- **Создание модели**\n",
    "- - Создание модели Low Rank Matrix Factorization c NN\n",
    "- - Обучение модели с помощью Adam optimizer и MSE loss. Прогресс был сохранен в переменную history\n",
    "\n",
    "|\n",
    "\n",
    "- **Анализ модели**\n",
    "- - Построение графика обучения модели\n",
    "- - Проверка модели на тестовых данных\n",
    "- - Создание константной модели\n",
    "- - Сравнение моделей\n",
    "- - Сохранение модели в файл\n",
    "\n",
    "|\n",
    "\n",
    "- **Создание рекомендаций на основе эмбеддингов**\n",
    "- - Получения эмбеддингов из обученной модели, по способу получения весов слоя\n",
    "- - Сохранение эмбеддингов в файлы\n",
    "- - Создание функции для рекомендаций фильмов для пользователя. Для этого используется скалярное произведение эмбеддинга пользователя и эмбеддингов фильмов.\n",
    "\n",
    "|\n",
    "\n",
    "- **Создание эмбеддингов для новых пользователей**\n",
    "- - Создание нового пользователя\n",
    "- - Получение эмбеддинга нового пользователя с помощью обученной модели\n",
    "\n",
    "\n",
    "\n",
    "**Что можно улучшить:**\n",
    "- Модель обучается долго на CPU. Можно было использовать GPU для ускорения обучения.\n",
    "- Можно увеличить количество эпох обучения и уменьшить кол-во батчей, чтобы улучшить качество модели. На данный момент этого не было сделано из-за недостатка времени. На мой взгляд, данную модель с этими данными, можно довести минимум до 0.5 MSE на тестовых данных. То есть, модель будет ошибаться в 0.25 единиц рейтинга.\n",
    "- После проверки адекватности модели, можно дообучить ее на валидационных данных, чтобы улучшить качество модели."
   ],
   "metadata": {
    "collapsed": false
   }
  },
  {
   "cell_type": "code",
   "execution_count": null,
   "outputs": [],
   "source": [],
   "metadata": {
    "collapsed": false
   }
  }
 ],
 "metadata": {
  "kernelspec": {
   "display_name": "Python 3",
   "language": "python",
   "name": "python3"
  },
  "language_info": {
   "codemirror_mode": {
    "name": "ipython",
    "version": 2
   },
   "file_extension": ".py",
   "mimetype": "text/x-python",
   "name": "python",
   "nbconvert_exporter": "python",
   "pygments_lexer": "ipython2",
   "version": "2.7.6"
  }
 },
 "nbformat": 4,
 "nbformat_minor": 0
}
