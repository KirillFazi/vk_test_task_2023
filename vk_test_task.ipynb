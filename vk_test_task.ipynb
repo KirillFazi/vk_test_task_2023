{
 "cells": [
  {
   "cell_type": "markdown",
   "source": [
    "# Embedding's for MovieLens dataset"
   ],
   "metadata": {
    "collapsed": false
   }
  },
  {
   "cell_type": "markdown",
   "source": [
    "## Описание задачи\n",
    "\n",
    "Необходимо построить векторное представление пользователей и фильмов используя нейросетевые подходы, чтобы можно было по эмбендингу пользователя искать похожие эмбендинги фильмов и рекомендовать ему их.\n",
    "\n",
    "Обратить внимание на:\n",
    "\n",
    "1. Какие данных на обучение и валидацию, обоснование.\n",
    "2. Выбор и обоснование метрики\n",
    "3. Разработка архитектуры нейронной сети с пояснением\n",
    "4. Обучение и валидация\n",
    "5. Решение должно быть воспроизводимым с подробными комментариями на каждом шаге"
   ],
   "metadata": {
    "collapsed": false
   }
  },
  {
   "cell_type": "markdown",
   "source": [
    "## Описание данных\n",
    "\n",
    "*Полный* датасет MovieLens с сайта grouplens.org: https://files.grouplens.org/datasets/movielens/ml-latest.zip\n",
    "\n",
    "В датасете содержится информация о фильмах, оценках пользователей и тегах фильмов.\n",
    "\n",
    "\n",
    "Структура файла данных рейтингов (ratings.csv)\n",
    "-----------------------------------------\n",
    "\n",
    "Все рейтинги содержатся в файле `ratings.csv`. Каждая строка этого файла после строки заголовка представляет собой одну оценку одного фильма одним пользователем и имеет следующий формат:\n",
    "\n",
    "    userId,movieId,rating,timestamp\n",
    "\n",
    "Строки в этом файле упорядочены сначала по идентификатору пользователя, затем, внутри пользователя, по идентификатору фильма.\n",
    "\n",
    "Оценки выставляются по 5-звездочной шкале, с шагом в ползвезды (0,5 звезды - 5,0 звезды).\n",
    "\n",
    "Временные метки представляют собой секунды с полуночи по всемирному координированному времени (UTC) от 1 января 1970 года.\n",
    "\n",
    "\n",
    "Структура файла данных тегов (tags.csv)\n",
    "-----------------------------------\n",
    "\n",
    "Все теги содержатся в файле `tags.csv`. Каждая строка этого файла после строки заголовка представляет собой один тег, примененный к одному фильму одним пользователем, и имеет следующий формат:\n",
    "\n",
    "    userId,movieId,tag,timestamp\n",
    "\n",
    "Строки в этом файле упорядочены сначала по userId, затем, внутри пользователя, по movieId.\n",
    "\n",
    "Теги - это созданные пользователем метаданные о фильмах. Каждый тег обычно представляет собой одно слово или короткую фразу. Смысл, значение и цель конкретного тега определяется каждым пользователем.\n",
    "\n",
    "Временные метки представляют собой секунды с полуночи по всемирному координированному времени (UTC) от 1 января 1970 года.\n",
    "\n",
    "\n",
    "Структура файла данных фильмов (movies.csv)\n",
    "---------------------------------------\n",
    "\n",
    "Информация о фильмах содержится в файле `movies.csv`. Каждая строка этого файла после строки заголовка представляет один фильм и имеет следующий формат:\n",
    "\n",
    "    movieId,title,genres\n",
    "\n",
    "Названия фильмов вводятся вручную или импортируются из <https://www.themoviedb.org/> и включают год выпуска в круглых скобках. В этих названиях могут быть ошибки и несоответствия.\n",
    "\n",
    "Жанры представляют собой список, разделенный трубкой, и выбираются из следующих:\n",
    "\n",
    "* боевик\n",
    "* Приключения\n",
    "* Анимация\n",
    "* Детские\n",
    "* Комедия\n",
    "* Криминал\n",
    "* Документальный\n",
    "* Драма\n",
    "* Фэнтези\n",
    "* Фильм-нуар\n",
    "* Ужасы\n",
    "* Мюзикл\n",
    "* Мистерия\n",
    "* Романтика\n",
    "* Научная фантастика\n",
    "* Триллер\n",
    "* Война\n",
    "* Вестерн\n",
    "* (жанры не указаны)\n",
    "\n",
    "\n",
    "Структура файла данных ссылок (links.csv)\n",
    "---------------------------------------\n",
    "\n",
    "Идентификаторы, которые могут быть использованы для ссылок на другие источники данных о фильмах, содержатся в файле `links.csv`. Каждая строка этого файла после строки заголовка представляет один фильм и имеет следующий формат:\n",
    "\n",
    "    movieId,imdbId,tmdbId\n",
    "\n",
    "movieId - это идентификатор для фильмов, используемых <https://movielens.org>. Например, фильм \"История игрушек\" имеет ссылку <https://movielens.org/movies/1>.\n",
    "\n",
    "imdbId - это идентификатор для фильмов, используемых <http://www.imdb.com>. Например, фильм \"История игрушек\" имеет ссылку <http://www.imdb.com/title/tt0114709/>.\n",
    "\n",
    "tmdbId - идентификатор для фильмов, используемых <https://www.themoviedb.org>. Например, фильм \"История игрушек\" имеет ссылку <https://www.themoviedb.org/movie/862>.\n",
    "\n",
    "Использование перечисленных выше ресурсов регулируется условиями каждого поставщика.\n",
    "\n",
    "\n",
    "Геном тегов (genome-scores.csv и genome-tags.csv)\n",
    "-------------------------------------------------\n",
    "\n",
    "Этот набор данных включает текущую копию генома тегов.\n",
    "\n",
    "[genome-paper]: http://files.grouplens.org/papers/tag_genome.pdf\n",
    "\n",
    "Геном тегов - это структура данных, которая содержит оценки релевантности тегов для фильмов.  Структура представляет собой плотную матрицу: каждый фильм в геноме имеет значение для *каждого* тега в геноме.\n",
    "\n",
    "Как описано в [этой статье][genome-paper], геном тегов кодирует, насколько сильно фильмы проявляют определенные свойства, представленные тегами (атмосферность, заставляющие задуматься, реалистичность и т.д.). Геном тегов был вычислен с помощью алгоритма машинного обучения на пользовательском контенте, включая теги, рейтинги и текстовые рецензии.\n",
    "\n",
    "Геном разделен на два файла.  Файл `genome-scores.csv` содержит данные о релевантности тегов фильма в следующем формате:\n",
    "\n",
    "    movieId,tagId,relevance\n",
    "\n",
    "Второй файл, `genome-tags.csv`, содержит описания тегов для идентификаторов тегов в файле генома в следующем формате:\n",
    "\n",
    "    tagId,tag\n",
    "\n",
    "Значения `tagId` генерируются при экспорте набора данных, поэтому они могут отличаться в разных версиях наборов данных MovieLens.\n",
    "\n",
    "При ссылке на геномные данные тегов, пожалуйста, указывайте следующую цитату:\n",
    "\n",
    "> Jesse Vig, Shilad Sen, and John Riedl. 2012. The Tag Genome: Кодирование знаний сообщества для поддержки новых взаимодействий. ACM Trans. Interact. Intell. Syst. 2, 3: 13:1-13:44. <https://doi.org/10.1145/2362394.2362395>"
   ],
   "metadata": {
    "collapsed": false
   }
  },
  {
   "cell_type": "markdown",
   "source": [
    "## Анализ и подготовка данных"
   ],
   "metadata": {
    "collapsed": false
   }
  },
  {
   "cell_type": "code",
   "execution_count": 13,
   "outputs": [],
   "source": [
    "import pandas as pd\n",
    "import numpy as np\n",
    "import matplotlib.pyplot as plt\n",
    "import seaborn as sns\n",
    "import os"
   ],
   "metadata": {
    "collapsed": false,
    "ExecuteTime": {
     "start_time": "2023-05-07T21:21:54.701751Z",
     "end_time": "2023-05-07T21:21:54.822645Z"
    }
   }
  },
  {
   "cell_type": "code",
   "execution_count": 58,
   "outputs": [],
   "source": [
    "movies = pd.read_csv('ml-latest/movies.csv', dtype={'movieId': 'int32', 'title': 'str', 'genres': 'str'})\n",
    "ratings = pd.read_csv('ml-latest/ratings.csv', dtype={'userId': 'int32', 'movieId': 'int32', 'rating': 'float16', 'timestamp': 'int32'})"
   ],
   "metadata": {
    "collapsed": false,
    "ExecuteTime": {
     "start_time": "2023-05-07T22:20:11.845159Z",
     "end_time": "2023-05-07T22:20:22.241682Z"
    }
   }
  },
  {
   "cell_type": "code",
   "execution_count": 42,
   "outputs": [
    {
     "data": {
      "text/plain": "   movieId                               title   \n0        1                    Toy Story (1995)  \\\n1        2                      Jumanji (1995)   \n2        3             Grumpier Old Men (1995)   \n3        4            Waiting to Exhale (1995)   \n4        5  Father of the Bride Part II (1995)   \n\n                                        genres  \n0  Adventure|Animation|Children|Comedy|Fantasy  \n1                   Adventure|Children|Fantasy  \n2                               Comedy|Romance  \n3                         Comedy|Drama|Romance  \n4                                       Comedy  ",
      "text/html": "<div>\n<style scoped>\n    .dataframe tbody tr th:only-of-type {\n        vertical-align: middle;\n    }\n\n    .dataframe tbody tr th {\n        vertical-align: top;\n    }\n\n    .dataframe thead th {\n        text-align: right;\n    }\n</style>\n<table border=\"1\" class=\"dataframe\">\n  <thead>\n    <tr style=\"text-align: right;\">\n      <th></th>\n      <th>movieId</th>\n      <th>title</th>\n      <th>genres</th>\n    </tr>\n  </thead>\n  <tbody>\n    <tr>\n      <th>0</th>\n      <td>1</td>\n      <td>Toy Story (1995)</td>\n      <td>Adventure|Animation|Children|Comedy|Fantasy</td>\n    </tr>\n    <tr>\n      <th>1</th>\n      <td>2</td>\n      <td>Jumanji (1995)</td>\n      <td>Adventure|Children|Fantasy</td>\n    </tr>\n    <tr>\n      <th>2</th>\n      <td>3</td>\n      <td>Grumpier Old Men (1995)</td>\n      <td>Comedy|Romance</td>\n    </tr>\n    <tr>\n      <th>3</th>\n      <td>4</td>\n      <td>Waiting to Exhale (1995)</td>\n      <td>Comedy|Drama|Romance</td>\n    </tr>\n    <tr>\n      <th>4</th>\n      <td>5</td>\n      <td>Father of the Bride Part II (1995)</td>\n      <td>Comedy</td>\n    </tr>\n  </tbody>\n</table>\n</div>"
     },
     "execution_count": 42,
     "metadata": {},
     "output_type": "execute_result"
    }
   ],
   "source": [
    "movies.head()"
   ],
   "metadata": {
    "collapsed": false,
    "ExecuteTime": {
     "start_time": "2023-05-07T21:59:42.912938Z",
     "end_time": "2023-05-07T21:59:42.945938Z"
    }
   }
  },
  {
   "cell_type": "code",
   "execution_count": 59,
   "outputs": [
    {
     "data": {
      "text/plain": "   userId  movieId  rating   timestamp\n0       1      307     3.5  1256677221\n1       1      481     3.5  1256677456\n2       1     1091     1.5  1256677471\n3       1     1257     4.5  1256677460\n4       1     1449     4.5  1256677264",
      "text/html": "<div>\n<style scoped>\n    .dataframe tbody tr th:only-of-type {\n        vertical-align: middle;\n    }\n\n    .dataframe tbody tr th {\n        vertical-align: top;\n    }\n\n    .dataframe thead th {\n        text-align: right;\n    }\n</style>\n<table border=\"1\" class=\"dataframe\">\n  <thead>\n    <tr style=\"text-align: right;\">\n      <th></th>\n      <th>userId</th>\n      <th>movieId</th>\n      <th>rating</th>\n      <th>timestamp</th>\n    </tr>\n  </thead>\n  <tbody>\n    <tr>\n      <th>0</th>\n      <td>1</td>\n      <td>307</td>\n      <td>3.5</td>\n      <td>1256677221</td>\n    </tr>\n    <tr>\n      <th>1</th>\n      <td>1</td>\n      <td>481</td>\n      <td>3.5</td>\n      <td>1256677456</td>\n    </tr>\n    <tr>\n      <th>2</th>\n      <td>1</td>\n      <td>1091</td>\n      <td>1.5</td>\n      <td>1256677471</td>\n    </tr>\n    <tr>\n      <th>3</th>\n      <td>1</td>\n      <td>1257</td>\n      <td>4.5</td>\n      <td>1256677460</td>\n    </tr>\n    <tr>\n      <th>4</th>\n      <td>1</td>\n      <td>1449</td>\n      <td>4.5</td>\n      <td>1256677264</td>\n    </tr>\n  </tbody>\n</table>\n</div>"
     },
     "execution_count": 59,
     "metadata": {},
     "output_type": "execute_result"
    }
   ],
   "source": [
    "ratings.head()"
   ],
   "metadata": {
    "collapsed": false,
    "ExecuteTime": {
     "start_time": "2023-05-07T22:20:25.018720Z",
     "end_time": "2023-05-07T22:20:25.052722Z"
    }
   }
  },
  {
   "cell_type": "code",
   "execution_count": 60,
   "outputs": [
    {
     "data": {
      "text/plain": "       userId  movieId  rating   timestamp   \n0           1      307     3.5  1256677221  \\\n32902       1     1590     2.5  1256677236   \n68785       1     2986     2.5  1256677496   \n20133       1     1257     4.5  1256677460   \n7958        1      481     3.5  1256677456   \n\n                                                  title   \n0      Three Colors: Blue (Trois couleurs: Bleu) (1993)  \\\n32902                              Event Horizon (1997)   \n68785                                  RoboCop 2 (1990)   \n20133                         Better Off Dead... (1985)   \n7958                                  Kalifornia (1993)   \n\n                             genres  \n0                             Drama  \n32902        Horror|Sci-Fi|Thriller  \n68785  Action|Crime|Sci-Fi|Thriller  \n20133                Comedy|Romance  \n7958                 Drama|Thriller  ",
      "text/html": "<div>\n<style scoped>\n    .dataframe tbody tr th:only-of-type {\n        vertical-align: middle;\n    }\n\n    .dataframe tbody tr th {\n        vertical-align: top;\n    }\n\n    .dataframe thead th {\n        text-align: right;\n    }\n</style>\n<table border=\"1\" class=\"dataframe\">\n  <thead>\n    <tr style=\"text-align: right;\">\n      <th></th>\n      <th>userId</th>\n      <th>movieId</th>\n      <th>rating</th>\n      <th>timestamp</th>\n      <th>title</th>\n      <th>genres</th>\n    </tr>\n  </thead>\n  <tbody>\n    <tr>\n      <th>0</th>\n      <td>1</td>\n      <td>307</td>\n      <td>3.5</td>\n      <td>1256677221</td>\n      <td>Three Colors: Blue (Trois couleurs: Bleu) (1993)</td>\n      <td>Drama</td>\n    </tr>\n    <tr>\n      <th>32902</th>\n      <td>1</td>\n      <td>1590</td>\n      <td>2.5</td>\n      <td>1256677236</td>\n      <td>Event Horizon (1997)</td>\n      <td>Horror|Sci-Fi|Thriller</td>\n    </tr>\n    <tr>\n      <th>68785</th>\n      <td>1</td>\n      <td>2986</td>\n      <td>2.5</td>\n      <td>1256677496</td>\n      <td>RoboCop 2 (1990)</td>\n      <td>Action|Crime|Sci-Fi|Thriller</td>\n    </tr>\n    <tr>\n      <th>20133</th>\n      <td>1</td>\n      <td>1257</td>\n      <td>4.5</td>\n      <td>1256677460</td>\n      <td>Better Off Dead... (1985)</td>\n      <td>Comedy|Romance</td>\n    </tr>\n    <tr>\n      <th>7958</th>\n      <td>1</td>\n      <td>481</td>\n      <td>3.5</td>\n      <td>1256677456</td>\n      <td>Kalifornia (1993)</td>\n      <td>Drama|Thriller</td>\n    </tr>\n  </tbody>\n</table>\n</div>"
     },
     "execution_count": 60,
     "metadata": {},
     "output_type": "execute_result"
    }
   ],
   "source": [
    "# merge ratings and movies\n",
    "df = pd.merge(ratings, movies, on='movieId').sort_values(by='userId')\n",
    "df.head()"
   ],
   "metadata": {
    "collapsed": false,
    "ExecuteTime": {
     "start_time": "2023-05-07T22:20:25.670282Z",
     "end_time": "2023-05-07T22:20:41.667388Z"
    }
   }
  },
  {
   "cell_type": "code",
   "execution_count": 66,
   "outputs": [],
   "source": [
    "del movies, ratings"
   ],
   "metadata": {
    "collapsed": false,
    "ExecuteTime": {
     "start_time": "2023-05-07T22:21:35.440021Z",
     "end_time": "2023-05-07T22:21:35.481022Z"
    }
   }
  },
  {
   "cell_type": "code",
   "execution_count": 61,
   "outputs": [
    {
     "data": {
      "text/plain": "     movieId                                             title genres\n304      307  Three Colors: Blue (Trois couleurs: Bleu) (1993)  Drama",
      "text/html": "<div>\n<style scoped>\n    .dataframe tbody tr th:only-of-type {\n        vertical-align: middle;\n    }\n\n    .dataframe tbody tr th {\n        vertical-align: top;\n    }\n\n    .dataframe thead th {\n        text-align: right;\n    }\n</style>\n<table border=\"1\" class=\"dataframe\">\n  <thead>\n    <tr style=\"text-align: right;\">\n      <th></th>\n      <th>movieId</th>\n      <th>title</th>\n      <th>genres</th>\n    </tr>\n  </thead>\n  <tbody>\n    <tr>\n      <th>304</th>\n      <td>307</td>\n      <td>Three Colors: Blue (Trois couleurs: Bleu) (1993)</td>\n      <td>Drama</td>\n    </tr>\n  </tbody>\n</table>\n</div>"
     },
     "execution_count": 61,
     "metadata": {},
     "output_type": "execute_result"
    }
   ],
   "source": [
    "# show row of movieId 307\n",
    "movies[movies['movieId'] == 307].head(1)"
   ],
   "metadata": {
    "collapsed": false,
    "ExecuteTime": {
     "start_time": "2023-05-07T22:20:41.684363Z",
     "end_time": "2023-05-07T22:20:41.811364Z"
    }
   }
  },
  {
   "cell_type": "code",
   "execution_count": 62,
   "outputs": [],
   "source": [
    "# rename columns userId -> user_id, movieId -> movie_id\n",
    "df.rename(columns={'userId':'user_id', 'movieId':'movie_id'}, inplace=True)"
   ],
   "metadata": {
    "collapsed": false,
    "ExecuteTime": {
     "start_time": "2023-05-07T22:20:41.703364Z",
     "end_time": "2023-05-07T22:20:41.811364Z"
    }
   }
  },
  {
   "cell_type": "code",
   "execution_count": 63,
   "outputs": [
    {
     "data": {
      "text/plain": "       user_id  movie_id  rating   timestamp   \n0            1       307     3.5  1256677221  \\\n32902        1      1590     2.5  1256677236   \n68785        1      2986     2.5  1256677496   \n20133        1      1257     4.5  1256677460   \n7958         1       481     3.5  1256677456   \n\n                                                  title   \n0      Three Colors: Blue (Trois couleurs: Bleu) (1993)  \\\n32902                              Event Horizon (1997)   \n68785                                  RoboCop 2 (1990)   \n20133                         Better Off Dead... (1985)   \n7958                                  Kalifornia (1993)   \n\n                             genres  \n0                             Drama  \n32902        Horror|Sci-Fi|Thriller  \n68785  Action|Crime|Sci-Fi|Thriller  \n20133                Comedy|Romance  \n7958                 Drama|Thriller  ",
      "text/html": "<div>\n<style scoped>\n    .dataframe tbody tr th:only-of-type {\n        vertical-align: middle;\n    }\n\n    .dataframe tbody tr th {\n        vertical-align: top;\n    }\n\n    .dataframe thead th {\n        text-align: right;\n    }\n</style>\n<table border=\"1\" class=\"dataframe\">\n  <thead>\n    <tr style=\"text-align: right;\">\n      <th></th>\n      <th>user_id</th>\n      <th>movie_id</th>\n      <th>rating</th>\n      <th>timestamp</th>\n      <th>title</th>\n      <th>genres</th>\n    </tr>\n  </thead>\n  <tbody>\n    <tr>\n      <th>0</th>\n      <td>1</td>\n      <td>307</td>\n      <td>3.5</td>\n      <td>1256677221</td>\n      <td>Three Colors: Blue (Trois couleurs: Bleu) (1993)</td>\n      <td>Drama</td>\n    </tr>\n    <tr>\n      <th>32902</th>\n      <td>1</td>\n      <td>1590</td>\n      <td>2.5</td>\n      <td>1256677236</td>\n      <td>Event Horizon (1997)</td>\n      <td>Horror|Sci-Fi|Thriller</td>\n    </tr>\n    <tr>\n      <th>68785</th>\n      <td>1</td>\n      <td>2986</td>\n      <td>2.5</td>\n      <td>1256677496</td>\n      <td>RoboCop 2 (1990)</td>\n      <td>Action|Crime|Sci-Fi|Thriller</td>\n    </tr>\n    <tr>\n      <th>20133</th>\n      <td>1</td>\n      <td>1257</td>\n      <td>4.5</td>\n      <td>1256677460</td>\n      <td>Better Off Dead... (1985)</td>\n      <td>Comedy|Romance</td>\n    </tr>\n    <tr>\n      <th>7958</th>\n      <td>1</td>\n      <td>481</td>\n      <td>3.5</td>\n      <td>1256677456</td>\n      <td>Kalifornia (1993)</td>\n      <td>Drama|Thriller</td>\n    </tr>\n  </tbody>\n</table>\n</div>"
     },
     "execution_count": 63,
     "metadata": {},
     "output_type": "execute_result"
    }
   ],
   "source": [
    "df.head()"
   ],
   "metadata": {
    "collapsed": false,
    "ExecuteTime": {
     "start_time": "2023-05-07T22:20:41.718364Z",
     "end_time": "2023-05-07T22:20:41.825364Z"
    }
   }
  },
  {
   "cell_type": "code",
   "execution_count": 64,
   "outputs": [
    {
     "name": "stdout",
     "output_type": "stream",
     "text": [
      "Количество пользователей: 283228\n",
      "Количество фильмов: 53889\n",
      "\n",
      "Максимальная оценка: 5.0\n",
      "Минимальная оценка: 0.5\n",
      "Медианная оценка: 3.5\n",
      "Количество оценок: 27753444\n",
      "\n",
      "Максимальное количество оценок на пользователя: 23715\n",
      "Минимальное количество оценок на пользователя: 1\n",
      "Медианное количество оценок на пользователя: 30.0\n",
      "\n",
      "Максимальное количество оценок на фильм: 97999\n",
      "Минимальное количество оценок на фильм: 1\n",
      "Медианное количество оценок на фильм: 7.0\n"
     ]
    }
   ],
   "source": [
    "rating_pre_user = df.groupby('user_id')['rating'].count()\n",
    "rating_pre_movie = df.groupby('movie_id')['rating'].count()\n",
    "\n",
    "print(f'Количество пользователей: {len(rating_pre_user)}')\n",
    "print(f'Количество фильмов: {len(rating_pre_movie)}')\n",
    "print()\n",
    "\n",
    "print(f'Максимальная оценка: {df[\"rating\"].max()}')\n",
    "print(f'Минимальная оценка: {df[\"rating\"].min()}')\n",
    "print(f'Медианная оценка: {df[\"rating\"].median()}')\n",
    "print(f'Количество оценок: {df[\"rating\"].count()}')\n",
    "print()\n",
    "\n",
    "print(f'Максимальное количество оценок на пользователя: {rating_pre_user.max()}')\n",
    "print(f'Минимальное количество оценок на пользователя: {rating_pre_user.min()}')\n",
    "print(f'Медианное количество оценок на пользователя: {rating_pre_user.median()}')\n",
    "print()\n",
    "\n",
    "print(f'Максимальное количество оценок на фильм: {rating_pre_movie.max()}')\n",
    "print(f'Минимальное количество оценок на фильм: {rating_pre_movie.min()}')\n",
    "print(f'Медианное количество оценок на фильм: {rating_pre_movie.median()}')\n",
    "\n",
    "del rating_pre_user, rating_pre_movie"
   ],
   "metadata": {
    "collapsed": false,
    "ExecuteTime": {
     "start_time": "2023-05-07T22:20:41.751367Z",
     "end_time": "2023-05-07T22:20:44.440115Z"
    }
   }
  },
  {
   "cell_type": "code",
   "execution_count": 65,
   "outputs": [
    {
     "name": "stdout",
     "output_type": "stream",
     "text": [
      "<class 'pandas.core.frame.DataFrame'>\n",
      "Index: 27753444 entries, 0 to 24944270\n",
      "Data columns (total 6 columns):\n",
      " #   Column     Dtype  \n",
      "---  ------     -----  \n",
      " 0   user_id    int32  \n",
      " 1   movie_id   int32  \n",
      " 2   rating     float16\n",
      " 3   timestamp  int32  \n",
      " 4   title      object \n",
      " 5   genres     object \n",
      "dtypes: float16(1), int32(3), object(2)\n",
      "memory usage: 1005.8+ MB\n"
     ]
    }
   ],
   "source": [
    "df.info()"
   ],
   "metadata": {
    "collapsed": false,
    "ExecuteTime": {
     "start_time": "2023-05-07T22:20:44.443088Z",
     "end_time": "2023-05-07T22:20:44.501380Z"
    }
   }
  },
  {
   "cell_type": "code",
   "execution_count": 68,
   "outputs": [],
   "source": [
    "def get_last_n_ratings_by_user(\n",
    "        df, n, min_ratings_per_user=1, user_colname=\"user_id\", timestamp_colname=\"timestamp\"\n",
    "):\n",
    "    return (\n",
    "        df.groupby(user_colname)\n",
    "        .filter(lambda x: len(x) >= min_ratings_per_user)\n",
    "        .sort_values(timestamp_colname)\n",
    "        .groupby(user_colname)\n",
    "        .tail(n)\n",
    "        .sort_values(user_colname)\n",
    "    )"
   ],
   "metadata": {
    "collapsed": false,
    "ExecuteTime": {
     "start_time": "2023-05-07T22:27:32.086462Z",
     "end_time": "2023-05-07T22:27:32.106461Z"
    }
   }
  },
  {
   "cell_type": "code",
   "execution_count": 69,
   "outputs": [],
   "source": [
    "def mark_last_n_ratings_as_validation_set(\n",
    "        df, n, min_ratings=1, user_colname=\"user_id\", timestamp_colname=\"timestamp\"\n",
    "):\n",
    "    \"\"\"\n",
    "    Отмечает n последних по времени оценок, что включает их в проверочную выборку.\n",
    "    Делается это путём добавления дополнительного столбца 'is_valid' в df.\n",
    "    :param df: объект DataFrame, содержащий оценки, данные пользователем\n",
    "    :param n: количество оценок, которые надо включить в проверочную выборку\n",
    "    :param min_ratings: включать лишь пользователей, имеющих более этого количества оценок\n",
    "    :param user_id_colname: имя столбца, содержащего идентификатор пользователя\n",
    "    :param timestamp_colname: имя столбца, содержащего отметку времени\n",
    "    :return: тот же df, в который добавлен дополнительный столбец 'is_valid'\n",
    "    \"\"\"\n",
    "    df[\"is_valid\"] = False\n",
    "    df.loc[\n",
    "        get_last_n_ratings_by_user(\n",
    "            df,\n",
    "            n,\n",
    "            min_ratings,\n",
    "            user_colname=user_colname,\n",
    "            timestamp_colname=timestamp_colname,\n",
    "        ).index,\n",
    "        \"is_valid\",\n",
    "    ] = True\n",
    "    return df"
   ],
   "metadata": {
    "collapsed": false,
    "ExecuteTime": {
     "start_time": "2023-05-07T22:27:32.464317Z",
     "end_time": "2023-05-07T22:27:32.481317Z"
    }
   }
  },
  {
   "cell_type": "code",
   "execution_count": 73,
   "outputs": [],
   "source": [
    "mark_last_n_ratings_as_validation_set(df, 15, min_ratings=20);"
   ],
   "metadata": {
    "collapsed": false,
    "ExecuteTime": {
     "start_time": "2023-05-07T22:29:34.874187Z",
     "end_time": "2023-05-07T22:30:01.980888Z"
    }
   }
  },
  {
   "cell_type": "code",
   "execution_count": 74,
   "outputs": [],
   "source": [
    "train_df = df[df['is_valid'] == False]\n",
    "test_df = df[df['is_valid'] == True]"
   ],
   "metadata": {
    "collapsed": false,
    "ExecuteTime": {
     "start_time": "2023-05-07T22:30:01.981892Z",
     "end_time": "2023-05-07T22:30:04.204119Z"
    }
   }
  },
  {
   "cell_type": "code",
   "execution_count": 75,
   "outputs": [
    {
     "name": "stdout",
     "output_type": "stream",
     "text": [
      "Количество строк в тренировочном датасете: 25600254\n",
      "Количество строк в тестовом датасете: 2153190\n",
      "Отношение тренировочного датасета к тестовому: 11.88945425159879\n"
     ]
    }
   ],
   "source": [
    "# show ratio of train and test data\n",
    "print(f'Количество строк в тренировочном датасете: {len(train_df)}')\n",
    "print(f'Количество строк в тестовом датасете: {len(test_df)}')\n",
    "print(f'Отношение тренировочного датасета к тестовому: {len(train_df) / len(test_df)}')"
   ],
   "metadata": {
    "collapsed": false,
    "ExecuteTime": {
     "start_time": "2023-05-07T22:30:04.206117Z",
     "end_time": "2023-05-07T22:30:04.220119Z"
    }
   }
  },
  {
   "cell_type": "code",
   "execution_count": null,
   "outputs": [],
   "source": [],
   "metadata": {
    "collapsed": false
   }
  },
  {
   "cell_type": "code",
   "execution_count": null,
   "outputs": [],
   "source": [],
   "metadata": {
    "collapsed": false
   }
  },
  {
   "cell_type": "code",
   "execution_count": null,
   "outputs": [],
   "source": [],
   "metadata": {
    "collapsed": false
   }
  },
  {
   "cell_type": "code",
   "execution_count": null,
   "outputs": [],
   "source": [],
   "metadata": {
    "collapsed": false
   }
  },
  {
   "cell_type": "code",
   "execution_count": null,
   "outputs": [],
   "source": [],
   "metadata": {
    "collapsed": false
   }
  },
  {
   "cell_type": "code",
   "execution_count": null,
   "outputs": [],
   "source": [],
   "metadata": {
    "collapsed": false
   }
  },
  {
   "cell_type": "code",
   "execution_count": null,
   "outputs": [],
   "source": [],
   "metadata": {
    "collapsed": false
   }
  },
  {
   "cell_type": "code",
   "execution_count": null,
   "outputs": [],
   "source": [],
   "metadata": {
    "collapsed": false
   }
  },
  {
   "cell_type": "code",
   "execution_count": null,
   "outputs": [],
   "source": [],
   "metadata": {
    "collapsed": false
   }
  },
  {
   "cell_type": "code",
   "execution_count": null,
   "outputs": [],
   "source": [],
   "metadata": {
    "collapsed": false
   }
  },
  {
   "cell_type": "code",
   "execution_count": null,
   "outputs": [],
   "source": [],
   "metadata": {
    "collapsed": false
   }
  },
  {
   "cell_type": "code",
   "execution_count": null,
   "outputs": [],
   "source": [],
   "metadata": {
    "collapsed": false
   }
  },
  {
   "cell_type": "code",
   "execution_count": null,
   "outputs": [],
   "source": [],
   "metadata": {
    "collapsed": false
   }
  },
  {
   "cell_type": "code",
   "execution_count": null,
   "outputs": [],
   "source": [],
   "metadata": {
    "collapsed": false
   }
  },
  {
   "cell_type": "code",
   "execution_count": null,
   "outputs": [],
   "source": [],
   "metadata": {
    "collapsed": false
   }
  },
  {
   "cell_type": "code",
   "execution_count": null,
   "outputs": [],
   "source": [],
   "metadata": {
    "collapsed": false
   }
  }
 ],
 "metadata": {
  "kernelspec": {
   "display_name": "Python 3",
   "language": "python",
   "name": "python3"
  },
  "language_info": {
   "codemirror_mode": {
    "name": "ipython",
    "version": 2
   },
   "file_extension": ".py",
   "mimetype": "text/x-python",
   "name": "python",
   "nbconvert_exporter": "python",
   "pygments_lexer": "ipython2",
   "version": "2.7.6"
  }
 },
 "nbformat": 4,
 "nbformat_minor": 0
}
